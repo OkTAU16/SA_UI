{
 "cells": [
  {
   "cell_type": "code",
   "id": "initial_id",
   "metadata": {
    "collapsed": true,
    "ExecuteTime": {
     "end_time": "2024-08-29T09:15:49.758793Z",
     "start_time": "2024-08-29T09:15:48.597823Z"
    }
   },
   "source": [
    "from SLM_tools import *\n",
    "import scipy.io as sio\n",
    "feature_matrix = sio.loadmat(r\"C:\\Users\\Omri.k\\Desktop\\temp\\testing data\\testing data\\out\\out_28_8\\29_8\\selected_features_29_08_11_35.mat\")[\"selected_features\"]\n",
    "save_path = r\"C:\\Users\\Omri.k\\Desktop\\temp\\testing data\\testing data\\out\\out_28_8\\29_8\\tests\""
   ],
   "outputs": [],
   "execution_count": 1
  },
  {
   "metadata": {
    "ExecuteTime": {
     "end_time": "2024-08-29T09:15:49.764796Z",
     "start_time": "2024-08-29T09:15:49.758793Z"
    }
   },
   "cell_type": "code",
   "source": "feature_matrix.shape",
   "id": "563e776f0ea0570e",
   "outputs": [
    {
     "data": {
      "text/plain": [
       "(2609, 4)"
      ]
     },
     "execution_count": 2,
     "metadata": {},
     "output_type": "execute_result"
    }
   ],
   "execution_count": 2
  },
  {
   "metadata": {
    "ExecuteTime": {
     "end_time": "2024-08-29T09:16:26.678637Z",
     "start_time": "2024-08-29T09:15:49.765317Z"
    }
   },
   "cell_type": "code",
   "source": [
    "YI, tfas_predict_mat, tfas_actually_mat, mean_error_mat, random_x = SLM_tools.model_training_with_cv(feature_matrix,\n",
    "                                                                                                     3,\n",
    "                                                                                                    int(10))"
   ],
   "id": "79b7cfa594cc7373",
   "outputs": [],
   "execution_count": 3
  },
  {
   "metadata": {
    "ExecuteTime": {
     "end_time": "2024-08-29T09:16:26.966047Z",
     "start_time": "2024-08-29T09:16:26.678637Z"
    }
   },
   "cell_type": "code",
   "source": [
    "mean_vec, std_vec, hist_space, x_hist_space, x_ticks, y_ticks = SLM_tools.model_eval(tfas_predict_mat,\n",
    "                                                                                             tfas_actually_mat,\n",
    "                                                                                             int(10),\n",
    "                                                                                             save_path)"
   ],
   "id": "84e6fc371249b3b0",
   "outputs": [],
   "execution_count": 4
  },
  {
   "metadata": {
    "ExecuteTime": {
     "end_time": "2024-08-29T09:16:30.520581Z",
     "start_time": "2024-08-29T09:16:26.967987Z"
    }
   },
   "cell_type": "code",
   "source": [
    "tfas_predict_mat_2, tfas_actually_mat_2, mean_error_mat_2 = SLM_tools.train_again_on_validation(feature_matrix,\n",
    "                                                                                                        3)\n",
    "SLM_tools.cv_bias_correction(tfas_predict_mat_2, tfas_actually_mat_2, hist_space, mean_vec, x_hist_space,\n",
    "                                     x_ticks, y_ticks, save_path)"
   ],
   "id": "dcee303626acae9c",
   "outputs": [],
   "execution_count": 5
  },
  {
   "metadata": {
    "ExecuteTime": {
     "end_time": "2024-08-29T09:16:30.524576Z",
     "start_time": "2024-08-29T09:16:30.520581Z"
    }
   },
   "cell_type": "code",
   "source": "",
   "id": "bff411193fbbb6a",
   "outputs": [],
   "execution_count": 5
  }
 ],
 "metadata": {
  "kernelspec": {
   "display_name": "Python 3",
   "language": "python",
   "name": "python3"
  },
  "language_info": {
   "codemirror_mode": {
    "name": "ipython",
    "version": 2
   },
   "file_extension": ".py",
   "mimetype": "text/x-python",
   "name": "python",
   "nbconvert_exporter": "python",
   "pygments_lexer": "ipython2",
   "version": "2.7.6"
  }
 },
 "nbformat": 4,
 "nbformat_minor": 5
}
