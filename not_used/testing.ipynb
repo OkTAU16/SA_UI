{
 "cells": [
  {
   "cell_type": "code",
   "source": [
    "import os\n",
    "import numpy as np\n",
    "from scipy import interpolate\n",
    "import scipy.io as sio\n",
    "import Rbeast as rb\n",
    "from SLM_tools import *\n",
    "import matplotlib.pyplot as plt\n",
    "from tqdm import tqdm"
   ],
   "metadata": {
    "collapsed": false,
    "ExecuteTime": {
     "end_time": "2024-05-24T07:48:52.681188Z",
     "start_time": "2024-05-24T07:48:52.668489Z"
    }
   },
   "id": "161f110558ec8137",
   "outputs": [],
   "execution_count": 13
  },
  {
   "cell_type": "code",
   "source": [
    "energy = sio.loadmat(r\"C:\\Users\\User\\OneDrive - mail.tau.ac.il\\Documents\\Final Project\\Project2-Omri and Idan\\Results\\06_30_2022_10_12_02_mu_0__0_2__2_8_Js__4_0_runs_2\\2\\3\\energy_vec_mu_1.6_energy_4.0_run_num_1_total_num_target_2.mat\")\n",
    "energy = energy[\"foo\"]"
   ],
   "metadata": {
    "collapsed": false,
    "ExecuteTime": {
     "end_time": "2024-05-24T07:44:50.674062Z",
     "start_time": "2024-05-24T07:44:50.022700Z"
    }
   },
   "id": "4d50243570552e11",
   "outputs": [],
   "execution_count": 2
  },
  {
   "metadata": {
    "ExecuteTime": {
     "end_time": "2024-05-24T07:44:52.200144Z",
     "start_time": "2024-05-24T07:44:50.675091Z"
    }
   },
   "cell_type": "code",
   "source": [
    "distance = sio.loadmat(r'C:\\Users\\User\\OneDrive - mail.tau.ac.il\\Documents\\Final Project\\Project2-Omri and Idan\\Results\\06_30_2022_10_12_02_mu_0__0_2__2_8_Js__4_0_runs_2\\2\\3\\distance_vec_mu_0.0_energy_4.0_run_num_1_total_num_target_2.mat')\n",
    "distance = distance[\"foo\"]"
   ],
   "id": "ca6dd735a9076d21",
   "outputs": [],
   "execution_count": 3
  },
  {
   "metadata": {
    "ExecuteTime": {
     "end_time": "2024-05-24T07:44:52.220640Z",
     "start_time": "2024-05-24T07:44:52.202138Z"
    }
   },
   "cell_type": "code",
   "source": [
    "energy_length = energy.shape[1]\n",
    "t = np.floor(np.linspace(0, energy_length-1, energy_length // 1000)).astype(int)"
   ],
   "id": "a52a73ce1196674f",
   "outputs": [],
   "execution_count": 4
  },
  {
   "metadata": {
    "ExecuteTime": {
     "end_time": "2024-05-24T07:44:52.335707Z",
     "start_time": "2024-05-24T07:44:52.222635Z"
    }
   },
   "cell_type": "code",
   "source": [
    "energy = energy[:,t]\n",
    "distance = distance[t,:]"
   ],
   "id": "1f933545540801bc",
   "outputs": [],
   "execution_count": 5
  },
  {
   "metadata": {
    "ExecuteTime": {
     "end_time": "2024-05-24T07:45:17.921142Z",
     "start_time": "2024-05-24T07:44:52.337088Z"
    }
   },
   "cell_type": "code",
   "source": "o, cp, mean_trend = SLM_tools.beast(energy)",
   "id": "369039340ce82966",
   "outputs": [
    {
     "name": "stdout",
     "output_type": "stream",
     "text": [
      "\n",
      "INFO: To supress printing the parameers in beast(),      set print.options = 0 \n",
      "INFO: To supress printing the parameers in beast_irreg(),set print.options = 0 \n",
      "INFO: To supress printing the parameers in beast123(),   set extra.printOptions = 0  \n",
      "INFO: To supress warning messages in beast(),            set quiet = 1 \n",
      "INFO: To supress warning messages in beast_irreg(),      set quiet = 1 \n",
      "INFO: To supress warning messages in beast123(),         set extra.quiet = 1  \n",
      "\n",
      "#--------------------------------------------------#\n",
      "#       Brief summary of Input Data                #\n",
      "#--------------------------------------------------#\n",
      "Data Dimension: One signal of length 50000\n",
      "IsOrdered     : Yes, ordered in time\n",
      "IsRegular     : Yes, evenly spaced at interval of  1 (unknown unit)\n",
      "hasSeasonCmpnt: False | no periodic or seasonal component. The model Y=Trend+Error is fitted.\n",
      "HasOutlierCmpt: False | If true, Y=Trend+Outlier+Error (experimental) is fitted instead of Y=Trend+Error \n",
      "Detrend       : False | If true, remove a global trend component before running BEAST & add it back after BEAST\n",
      "MissingValue  : NaN  flagged as missing values \n",
      "MaxMissingRate: if more than 75% of data is missing, BEAST will skip it.\n",
      "\n",
      "\n",
      "#--------------------------------------------------#\n",
      "#      OPTIONS used in the MCMC inference          #\n",
      "#--------------------------------------------------#\n",
      "\n",
      "#......Start of displaying 'MetaData' ......\n",
      "metadata                =  rb.args() ### or 'lambda: None': just get an empty object### # metadata is used to interpret the input data Y\n",
      "metadata.season         = 'none'     # trend-only data with no periodic variation\n",
      "metadata.startTime      = 0          # unknown unit\n",
      "metadata.deltaTime      = 1          # unknown unit\n",
      "metadata.maxMissingRate = 0.75       # if more than 75% of data is missing, BEAST will skip it.\n",
      "metadata.detrend        = False      # if true,remove a global trend  cmpnt before running BEAST & add it back later\n",
      "#........End of displaying MetaData ........\n",
      "\n",
      "#......Start of displaying 'prior' ......\n",
      "prior                   =  rb.args() ### or 'lambda: None': just get an empty object### # prior is the true model parameters of BEAST\n",
      "prior.trendMinOrder     = 1          # torder.minmax[1]: min trend polynomial order alllowed\n",
      "prior.trendMaxOrder     = 1          # torder.minmax[2]: max trend polynomial order alllowed\n",
      "prior.trendMinKnotNum   = 0          # tcp.minmax[1]   : min num of chngpts in trend allowed\n",
      "prior.trendMaxKnotNum   = 8          # tcp.minmax[2]   : max num of chngpts in trend allowed\n",
      "prior.trendMinSepDist   = 5000       # tseg.min        : min trend segment length in terms of datapoints\n",
      "prior.trendLeftMargin   = 5000       # tseg.leftmargin : no trend chngpts in the first 5000 datapoints\n",
      "prior.trendRightMargin  = 5000       # tseg.rightmargin: no trend chngpts in the last 5000 datapoints\n",
      "prior.K_MAX             = 18         # max number of terms in general linear model (relevant only at small values)\n",
      "prior.precValue         = 1.5        # useful mainly when precPriorType='constant'\n",
      "prior.modelPriorType    = 1         \n",
      "prior.precPriorType     = 'uniform'\n",
      "#......End of displaying prior ......\n",
      "\n",
      "#......Start of displaying 'mcmc' ......\n",
      "mcmc                           =  rb.args() ### or 'lambda: None': just get an empty object### # mcmc is not BEAST parameters but MCMC sampler options\n",
      "mcmc.seed                      = 0          # A nonzero seed to replicate among runs\n",
      "mcmc.samples                   = 8000       # Number of samples saved per chain: the larger, the better\n",
      "mcmc.thinningFactor            = 5          # Thinning the chain: the larger, the better \n",
      "mcmc.burnin                    = 200        # Number of initial samples discarded: the larger, the better\n",
      "mcmc.chainNumber               = 3          # Number of chains: the larger, the better\n",
      "mcmc.maxMoveStepSize           = 6          # Max step of jumping from current changepoint: No need to change\n",
      "mcmc.trendResamplingOrderProb  = 0          # Proposal probability of sampling trend polynominal order \n",
      "mcmc.credIntervalAlphaLevel    = 0.95       # The alphal level for Credible Intervals\n",
      "# Total number of models randomly visited in BEAST is (burnin+sampples*thinFactor)*chainNumber=120600\n",
      "#......End of displaying mcmc ......\n",
      "\n",
      "#......Start of displaying 'extra' ......\n",
      "extra                      =  rb.args() ### or 'lambda: None': just get an empty object### # extra is used to configure output/computing options\n",
      "extra.dumpInputData        = True  # if true, dump a copy of the input data as o.data \n",
      "extra.whichOutputDimIsTime = 1     # 1,2 or 3; which dim of the result is time; used for a 2D/3D input Y\n",
      "extra.computeCredible      = True  # if true, compute  credibiel interval of estimated Y (e.g., o.trend.CI)\n",
      "extra.fastCIComputation    = True  # if true, do not sort but approximiate CI \n",
      "extra.computeTrendOrder    = True  # if true, dump the estimated trend polynomial order \n",
      "extra.computeTrendChngpt   = True  # if true, dump the trend changepoints (tcp) in the output \n",
      "extra.computeTrendSlope    = True  # if true, dump the time-varying slope in trend\n",
      "extra.tallyPosNegTrendJump = False # differentiate postive/negative jumps at tcp\n",
      "extra.tallyIncDecTrendJump = False # differentiate increased/decreased slopes at tcp\n",
      "extra.printProgressBar     = True  # if true, show an ascii progressbar\n",
      "extra.printOptions         = True  # if true, print the option of the BEAST run\n",
      "extra.consoleWidth         = 85    # an integer specifying the console width for printing\n",
      "extra.numThreadsPerCPU     = 2     # each cpu core spawns 2 concurrent threads (for beast123())\n",
      "extra.numParThreads        = 0     # total number of threads (for beast123() only)\n",
      "#......End of displaying extra ......\n",
      "\n",
      "-Progress:100.0% done[==============================================================]\n"
     ]
    }
   ],
   "execution_count": 6
  },
  {
   "metadata": {
    "ExecuteTime": {
     "end_time": "2024-05-24T07:45:17.937475Z",
     "start_time": "2024-05-24T07:45:17.923150Z"
    }
   },
   "cell_type": "code",
   "source": [
    "import pickle\n",
    "with open(\"beast_output.pkl\", \"wb\") as f:\n",
    "    pickle.dump(o,f)"
   ],
   "id": "c175b7f32d5b25dd",
   "outputs": [],
   "execution_count": 7
  },
  {
   "metadata": {
    "ExecuteTime": {
     "end_time": "2024-05-24T07:48:55.102038Z",
     "start_time": "2024-05-24T07:48:55.069212Z"
    }
   },
   "cell_type": "code",
   "source": "A = SLM_tools.segment_data(energy, distance,mean_trend,cp)",
   "id": "bf455f44bd7400da",
   "outputs": [],
   "execution_count": 14
  },
  {
   "metadata": {
    "ExecuteTime": {
     "end_time": "2024-05-24T07:48:55.798813Z",
     "start_time": "2024-05-24T07:48:55.786838Z"
    }
   },
   "cell_type": "code",
   "source": "print(A)",
   "id": "2b94c9f8e33410d6",
   "outputs": [
    {
     "name": "stdout",
     "output_type": "stream",
     "text": [
      "[array([-105.52959116,  -73.32456291, -141.10580058, -139.91271916,\n",
      "        -83.23011829]), array([39.48848768, 23.89291686, 14.12508997, 13.73590672, 18.70533572]), array([ 19.3547404 , -30.45998785,  18.33530571,  23.29280502,\n",
      "         4.80029862]), array([-0.01426697, -0.00664487, -0.0001718 ,  0.00439264, -0.00803112]), array([ 6066.,  5834., 17481.,  6502.,  5495.]), array([0., 0., 0., 0., 0.]), array([nan, nan, nan, nan, nan])]\n"
     ]
    }
   ],
   "execution_count": 15
  },
  {
   "metadata": {
    "ExecuteTime": {
     "end_time": "2024-05-24T07:49:33.783418Z",
     "start_time": "2024-05-24T07:49:33.762131Z"
    }
   },
   "cell_type": "code",
   "source": [
    "from IPython.display import display\n",
    "display(A)"
   ],
   "id": "cf2211969dca2af",
   "outputs": [
    {
     "data": {
      "text/plain": [
       "[array([-105.52959116,  -73.32456291, -141.10580058, -139.91271916,\n",
       "         -83.23011829]),\n",
       " array([39.48848768, 23.89291686, 14.12508997, 13.73590672, 18.70533572]),\n",
       " array([ 19.3547404 , -30.45998785,  18.33530571,  23.29280502,\n",
       "          4.80029862]),\n",
       " array([-0.01426697, -0.00664487, -0.0001718 ,  0.00439264, -0.00803112]),\n",
       " array([ 6066.,  5834., 17481.,  6502.,  5495.]),\n",
       " array([0., 0., 0., 0., 0.]),\n",
       " array([nan, nan, nan, nan, nan])]"
      ]
     },
     "metadata": {},
     "output_type": "display_data"
    }
   ],
   "execution_count": 16
  },
  {
   "metadata": {
    "jupyter": {
     "is_executing": true
    }
   },
   "cell_type": "code",
   "source": "print(\"hello\")",
   "id": "2c06da1e1c8aa486",
   "outputs": [],
   "execution_count": null
  },
  {
   "metadata": {},
   "cell_type": "code",
   "outputs": [],
   "execution_count": null,
   "source": "",
   "id": "fecb6ad766525a00"
  }
 ],
 "metadata": {
  "kernelspec": {
   "display_name": "Python 3",
   "language": "python",
   "name": "python3"
  },
  "language_info": {
   "codemirror_mode": {
    "name": "ipython",
    "version": 2
   },
   "file_extension": ".py",
   "mimetype": "text/x-python",
   "name": "python",
   "nbconvert_exporter": "python",
   "pygments_lexer": "ipython2",
   "version": "2.7.6"
  }
 },
 "nbformat": 4,
 "nbformat_minor": 5
}
