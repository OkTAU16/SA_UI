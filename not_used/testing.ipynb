{
 "cells": [
  {
   "cell_type": "code",
   "outputs": [],
   "source": [
    "import numpy as np\n",
    "from scipy import interpolate\n",
    "import scipy.io as sio\n",
    "import Rbeast as rb\n",
    "from SLM_tools import *\n",
    "import matplotlib.pyplot as plt\n",
    "%matplotlib inline"
   ],
   "metadata": {
    "collapsed": false,
    "ExecuteTime": {
     "end_time": "2024-03-04T12:54:03.431679Z",
     "start_time": "2024-03-04T12:53:58.549914Z"
    }
   },
   "id": "161f110558ec8137",
   "execution_count": 1
  },
  {
   "cell_type": "code",
   "outputs": [],
   "source": [
    "energy = sio.loadmat(r\"C:\\Users\\User\\OneDrive - mail.tau.ac.il\\Documents\\Final Project\\Project2-Omri and Idan\\Results\\06_30_2022_10_12_02_mu_0__0_2__2_8_Js__4_0_runs_2\\2\\3\\energy_vec_mu_1.6_energy_4.0_run_num_1_total_num_target_2.mat\")\n",
    "energy = energy[\"foo\"]"
   ],
   "metadata": {
    "collapsed": false,
    "ExecuteTime": {
     "end_time": "2024-03-04T12:54:04.490340Z",
     "start_time": "2024-03-04T12:54:03.437300Z"
    }
   },
   "id": "4d50243570552e11",
   "execution_count": 2
  },
  {
   "cell_type": "code",
   "outputs": [],
   "source": [
    "data,time = SLM_tools.interpolate_data_over_regular_time(energy)"
   ],
   "metadata": {
    "collapsed": false,
    "ExecuteTime": {
     "end_time": "2024-03-04T12:54:08.005273Z",
     "start_time": "2024-03-04T12:54:06.320017Z"
    }
   },
   "id": "94ed3b5f48025ea5",
   "execution_count": 3
  },
  {
   "cell_type": "code",
   "outputs": [],
   "source": [
    "data,time = SLM_tools.downsample(data,time,10)"
   ],
   "metadata": {
    "collapsed": false,
    "ExecuteTime": {
     "end_time": "2024-03-04T12:54:11.461842Z",
     "start_time": "2024-03-04T12:54:08.009468Z"
    }
   },
   "id": "da1e0cbe438eda3f",
   "execution_count": 4
  },
  {
   "cell_type": "code",
   "outputs": [],
   "source": [
    "o = rb.beast(data, 0, tseg_minlength=0.1 * data.shape[1], season=\"none\", torder_minmax=[1, 1.01])"
   ],
   "metadata": {
    "collapsed": false,
    "is_executing": true,
    "ExecuteTime": {
     "start_time": "2024-03-04T12:54:11.464650Z"
    }
   },
   "id": "8ae5cb75af6845d6",
   "execution_count": null
  },
  {
   "cell_type": "code",
   "outputs": [],
   "source": [
    "plt.switch_backend('Agg')\n",
    "x=rb.plot(o);"
   ],
   "metadata": {
    "collapsed": false
   },
   "id": "de8767396cc96396",
   "execution_count": null
  },
  {
   "cell_type": "code",
   "outputs": [],
   "source": [],
   "metadata": {
    "collapsed": false
   },
   "id": "ffa92bde80436d01"
  }
 ],
 "metadata": {
  "kernelspec": {
   "display_name": "Python 3",
   "language": "python",
   "name": "python3"
  },
  "language_info": {
   "codemirror_mode": {
    "name": "ipython",
    "version": 2
   },
   "file_extension": ".py",
   "mimetype": "text/x-python",
   "name": "python",
   "nbconvert_exporter": "python",
   "pygments_lexer": "ipython2",
   "version": "2.7.6"
  }
 },
 "nbformat": 4,
 "nbformat_minor": 5
}
