{
 "cells": [
  {
   "cell_type": "code",
   "outputs": [],
   "source": [
    "import numpy as np\n",
    "from scipy import interpolate\n",
    "import scipy.io as sio\n",
    "import matplotlib.pyplot as plt"
   ],
   "metadata": {
    "collapsed": false
   },
   "id": "161f110558ec8137",
   "execution_count": null
  },
  {
   "cell_type": "code",
   "execution_count": null,
   "id": "initial_id",
   "metadata": {
    "collapsed": true
   },
   "outputs": [],
   "source": [
    "def creat_time_vec(data):\n",
    "    t = np.arange(0, np.shape(data)[1], 1)\n",
    "    # t = np.reshape(t, np.shape(data))\n",
    "    data_new = interpolate.interp1d(t, data, kind=\"linear\")\n",
    "    return data_new.y,t"
   ]
  },
  {
   "cell_type": "code",
   "outputs": [],
   "source": [
    "energy = sio.loadmat(r\"C:\\Users\\User\\OneDrive - mail.tau.ac.il\\Documents\\Final Project\\Project2-Omri and Idan\\Results\\06_30_2022_10_12_02_mu_0__0_2__2_8_Js__4_0_runs_2\\2\\3\\energy_vec_mu_1.6_energy_4.0_run_num_1_total_num_target_2.mat\")\n",
    "energy = energy[\"foo\"]"
   ],
   "metadata": {
    "collapsed": false
   },
   "id": "4d50243570552e11",
   "execution_count": null
  },
  {
   "cell_type": "code",
   "outputs": [],
   "source": [
    "data,time = creat_time_vec(energy)"
   ],
   "metadata": {
    "collapsed": false
   },
   "id": "94ed3b5f48025ea5",
   "execution_count": null
  },
  {
   "cell_type": "code",
   "outputs": [],
   "source": [],
   "metadata": {
    "collapsed": false
   },
   "id": "da1e0cbe438eda3f"
  }
 ],
 "metadata": {
  "kernelspec": {
   "display_name": "Python 3",
   "language": "python",
   "name": "python3"
  },
  "language_info": {
   "codemirror_mode": {
    "name": "ipython",
    "version": 2
   },
   "file_extension": ".py",
   "mimetype": "text/x-python",
   "name": "python",
   "nbconvert_exporter": "python",
   "pygments_lexer": "ipython2",
   "version": "2.7.6"
  }
 },
 "nbformat": 4,
 "nbformat_minor": 5
}
