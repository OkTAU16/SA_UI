{
 "cells": [
  {
   "metadata": {
    "ExecuteTime": {
     "end_time": "2024-07-26T06:38:18.189133Z",
     "start_time": "2024-07-26T06:38:16.560017Z"
    }
   },
   "cell_type": "code",
   "source": [
    "import os\n",
    "import numpy as np\n",
    "from scipy import interpolate\n",
    "import scipy.io\n",
    "import Rbeast as rb\n",
    "from SLM_tools import *\n",
    "import pickle\n",
    "import re"
   ],
   "id": "c801fa3d4fb32bde",
   "outputs": [],
   "execution_count": 1
  },
  {
   "cell_type": "code",
   "id": "initial_id",
   "metadata": {
    "collapsed": true,
    "ExecuteTime": {
     "end_time": "2024-07-26T06:38:18.205110Z",
     "start_time": "2024-07-26T06:38:18.189133Z"
    }
   },
   "source": [
    "def create_file_dicts(folder_path):\n",
    "    \"\"\"\n",
    "    Iterates over all .mat files in the given folder path, extracts type, mu, and run_num,\n",
    "    and creates dictionaries for distance and energy files with (mu, run_num) as keys.\n",
    "    \n",
    "    :param folder_path: Path to the folder\n",
    "    :return: Tuple containing two dictionaries (distance_dict, energy_dict)\n",
    "    \"\"\"\n",
    "    distance_dict = {}\n",
    "    energy_dict = {}\n",
    "    pattern = re.compile(\n",
    "        r\"(?P<type>distance|energy)_vec_mu_(?P<mu>[-+]?\\d*\\.\\d+|\\d+)_energy_(?P<energy>[-+]?\\d*\\.\\d+|\\d+)_run_num_(?P<run_num>\\d+)_total_num_target_\\d+\\.mat\")\n",
    "\n",
    "    try:\n",
    "        for filename in os.listdir(folder_path):\n",
    "            file_path = os.path.join(folder_path, filename)\n",
    "            if os.path.isfile(file_path) and filename.endswith('.mat'):\n",
    "                match = pattern.match(filename)\n",
    "                if match:\n",
    "                    file_info = match.groupdict()\n",
    "                    key = (float(file_info['mu']), int(file_info['run_num']))\n",
    "                    if file_info['type'] == 'distance':\n",
    "                        distance_dict[key] = filename\n",
    "                    elif file_info['type'] == 'energy':\n",
    "                        energy_dict[key] = filename\n",
    "    except Exception as e:\n",
    "        print(f\"An error occurred: {e}\")\n",
    "\n",
    "    return distance_dict, energy_dict\n",
    "\n",
    "def load_and_concatenate_files_horizontally(distance_dict, energy_dict, folder_path):\n",
    "    \"\"\"\n",
    "    Loads and concatenates files with the same keys in the distance and energy dictionaries.\n",
    "    Concatenates the data horizontally, placing energy columns before distance columns.\n",
    "    \n",
    "    :param distance_dict: Dictionary containing distance files with keys as (mu, run_num)\n",
    "    :param energy_dict: Dictionary containing energy files with keys as (mu, run_num)\n",
    "    :param folder_path: Path to the folder containing the files\n",
    "    :return: Dictionary with keys as (mu, run_num) and concatenated data as values\n",
    "    \"\"\"\n",
    "    concatenated_data = {}\n",
    "\n",
    "    for key in distance_dict.keys():\n",
    "        if key in energy_dict:\n",
    "            distance_file = os.path.join(folder_path, distance_dict[key])\n",
    "            energy_file = os.path.join(folder_path, energy_dict[key])\n",
    "\n",
    "            # Load the .mat files\n",
    "            distance_data = scipy.io.loadmat(distance_file)['foo']\n",
    "            energy_data = scipy.io.loadmat(energy_file)['foo'].T\n",
    "            concatenated_data[key] = np.concatenate((energy_data, distance_data), axis=1)\n",
    "            # print(f\"energy_shape {energy_data.shape} , distance_shape {distance_data.shape}\")\n",
    "    return concatenated_data"
   ],
   "outputs": [],
   "execution_count": 2
  },
  {
   "metadata": {
    "ExecuteTime": {
     "end_time": "2024-07-26T06:38:18.794938Z",
     "start_time": "2024-07-26T06:38:18.205110Z"
    }
   },
   "cell_type": "code",
   "source": [
    "folder_path = r\"C:\\Users\\User\\OneDrive - mail.tau.ac.il\\Documents\\Final Project\\Project2-Omri and Idan\\Results\\06_30_2022_10_12_02_mu_0__0_2__2_8_Js__4_0_runs_2\\2\\3\"\n",
    "distance_dict, energy_dict = create_file_dicts(folder_path)"
   ],
   "id": "959747a2b2ccd528",
   "outputs": [],
   "execution_count": 3
  },
  {
   "metadata": {
    "ExecuteTime": {
     "end_time": "2024-07-26T06:38:36.881781Z",
     "start_time": "2024-07-26T06:38:36.867793Z"
    }
   },
   "cell_type": "code",
   "source": [
    "distance_dict = {k: v for k, v in distance_dict.items() if k[0] == 0.6}\n",
    "energy_dict = {k: v for k, v in energy_dict.items() if k[0] == 0.6}"
   ],
   "id": "37e476075d11a932",
   "outputs": [],
   "execution_count": 4
  },
  {
   "metadata": {
    "ExecuteTime": {
     "end_time": "2024-07-26T06:38:40.981108Z",
     "start_time": "2024-07-26T06:38:40.933364Z"
    }
   },
   "cell_type": "code",
   "source": "print(distance_dict)",
   "id": "4567178c72457224",
   "outputs": [
    {
     "data": {
      "text/plain": [
       "{(0.6, 1): 'distance_vec_mu_0.6_energy_4.0_run_num_1_total_num_target_2.mat',\n",
       " (0.6, 2): 'distance_vec_mu_0.6_energy_4.0_run_num_2_total_num_target_2.mat'}"
      ]
     },
     "execution_count": 5,
     "metadata": {},
     "output_type": "execute_result"
    }
   ],
   "execution_count": 5
  },
  {
   "metadata": {},
   "cell_type": "code",
   "outputs": [],
   "execution_count": null,
   "source": [
    "concatenated_data = load_and_concatenate_files_horizontally(distance_dict, energy_dict, folder_path)\n",
    "output_folder = r\"C:\\Users\\User\\OneDrive - mail.tau.ac.il\\Documents\\SA_UI\\testing data\"\n",
    "for key, data in concatenated_data.items():\n",
    "    mu, run_num = key\n",
    "    filename = f\"energy_distance_mu_{mu}_run_num_{run_num}.mat\"\n",
    "    output_file = os.path.join(output_folder, filename)\n",
    "    sio.savemat(output_file, {\"filename\":data})\n",
    "    print(f\"Saved {output_file}\")"
   ],
   "id": "42bc264c59a12522"
  }
 ],
 "metadata": {
  "kernelspec": {
   "display_name": "Python 3",
   "language": "python",
   "name": "python3"
  },
  "language_info": {
   "codemirror_mode": {
    "name": "ipython",
    "version": 2
   },
   "file_extension": ".py",
   "mimetype": "text/x-python",
   "name": "python",
   "nbconvert_exporter": "python",
   "pygments_lexer": "ipython2",
   "version": "2.7.6"
  }
 },
 "nbformat": 4,
 "nbformat_minor": 5
}
