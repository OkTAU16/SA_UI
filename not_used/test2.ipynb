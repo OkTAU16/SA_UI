{
 "cells": [
  {
   "metadata": {},
   "cell_type": "code",
   "source": [
    "import os\n",
    "import numpy as np\n",
    "from scipy import interpolate\n",
    "import scipy.io \n",
    "import Rbeast as rb\n",
    "from SLM_tools import *\n",
    "import pickle\n",
    "import re"
   ],
   "id": "db1fcc1f0360fa9",
   "outputs": [],
   "execution_count": null
  },
  {
   "metadata": {},
   "cell_type": "code",
   "source": [
    "def create_file_dicts(folder_path):\n",
    "    \"\"\"\n",
    "    Iterates over all .mat files in the given folder path, extracts type, mu, and run_num,\n",
    "    and creates dictionaries for distance and energy files with (mu, run_num) as keys.\n",
    "    \n",
    "    :param folder_path: Path to the folder\n",
    "    :return: Tuple containing two dictionaries (distance_dict, energy_dict)\n",
    "    \"\"\"\n",
    "    distance_dict = {}\n",
    "    energy_dict = {}\n",
    "    pattern = re.compile(r\"(?P<type>distance|energy)_vec_mu_(?P<mu>[-+]?\\d*\\.\\d+|\\d+)_energy_(?P<energy>[-+]?\\d*\\.\\d+|\\d+)_run_num_(?P<run_num>\\d+)_total_num_target_\\d+\\.mat\")\n",
    "\n",
    "    try:\n",
    "        for filename in os.listdir(folder_path):\n",
    "            file_path = os.path.join(folder_path, filename)\n",
    "            if os.path.isfile(file_path) and filename.endswith('.mat'):\n",
    "                match = pattern.match(filename)\n",
    "                if match:\n",
    "                    file_info = match.groupdict()\n",
    "                    key = (float(file_info['mu']), int(file_info['run_num']))\n",
    "                    if file_info['type'] == 'distance':\n",
    "                        distance_dict[key] = filename\n",
    "                    elif file_info['type'] == 'energy':\n",
    "                        energy_dict[key] = filename\n",
    "    except Exception as e:\n",
    "        print(f\"An error occurred: {e}\")\n",
    "\n",
    "    return distance_dict, energy_dict\n"
   ],
   "id": "a0ac2c1627262162",
   "outputs": [],
   "execution_count": null
  },
  {
   "metadata": {},
   "cell_type": "code",
   "source": [
    "folder_path = r\"C:\\Users\\User\\OneDrive - mail.tau.ac.il\\Documents\\Final Project\\Project2-Omri and Idan\\Results\\06_30_2022_10_12_02_mu_0__0_2__2_8_Js__4_0_runs_2\\2\\3\"\n",
    "distance_dict, energy_dict= create_file_dicts(folder_path)"
   ],
   "id": "1609e1255f1ed1bc",
   "outputs": [],
   "execution_count": null
  },
  {
   "metadata": {},
   "cell_type": "code",
   "source": [
    "def load_and_concatenate_files_horizontally(distance_dict, energy_dict, folder_path):\n",
    "    \"\"\"\n",
    "    Loads and concatenates files with the same keys in the distance and energy dictionaries.\n",
    "    Concatenates the data horizontally, placing energy columns before distance columns.\n",
    "    \n",
    "    :param distance_dict: Dictionary containing distance files with keys as (mu, run_num)\n",
    "    :param energy_dict: Dictionary containing energy files with keys as (mu, run_num)\n",
    "    :param folder_path: Path to the folder containing the files\n",
    "    :return: Dictionary with keys as (mu, run_num) and concatenated data as values\n",
    "    \"\"\"\n",
    "    concatenated_data = {}\n",
    "\n",
    "    for key in distance_dict.keys():\n",
    "        if key in energy_dict:\n",
    "            distance_file = os.path.join(folder_path, distance_dict[key])\n",
    "            energy_file = os.path.join(folder_path, energy_dict[key])\n",
    "\n",
    "            # Load the .mat files\n",
    "            distance_data = scipy.io.loadmat(distance_file)['foo']\n",
    "            energy_data = scipy.io.loadmat(energy_file)['foo'].T\n",
    "            concatenated_data[key] = np.concatenate((energy_data, distance_data), axis=1)\n",
    "            # print(f\"energy_shape {energy_data.shape} , distance_shape {distance_data.shape}\")\n",
    "    return concatenated_data"
   ],
   "id": "eefead9f570305a",
   "outputs": [],
   "execution_count": null
  },
  {
   "metadata": {},
   "cell_type": "code",
   "source": "concatenated_data = load_and_concatenate_files_horizontally(distance_dict, energy_dict, folder_path)",
   "id": "e159cc9252a32e72",
   "outputs": [],
   "execution_count": null
  },
  {
   "metadata": {},
   "cell_type": "code",
   "source": [
    "output_folder = r\"C:\\Users\\User\\OneDrive - mail.tau.ac.il\\Documents\\SA_UI\\testing data\"\n",
    "for key, data in concatenated_data.items():\n",
    "        mu, run_num = key\n",
    "        filename = f\"energy_distance_mu_{mu}_run_num_{run_num}.csv\"\n",
    "        output_file = os.path.join(output_folder, filename)\n",
    "        np.savetxt(output_file, data, delimiter=',')\n",
    "        print(f\"Saved {output_file}\")"
   ],
   "id": "5bd6dfb310e379f6",
   "outputs": [],
   "execution_count": null
  },
  {
   "metadata": {},
   "cell_type": "code",
   "source": [
    "import numpy as np\n",
    "from SLM_tools import *\n",
    "data = np.loadtxt(r'C:\\Users\\User\\OneDrive - mail.tau.ac.il\\Documents\\SA_UI\\testing data\\energy_distance_mu_0.0_run_num_1.csv', delimiter=',')"
   ],
   "id": "28c44b07dcd611c9",
   "outputs": [],
   "execution_count": null
  },
  {
   "metadata": {},
   "cell_type": "code",
   "source": [
    "energy = data[:,0]\n",
    "distance = data[:,1:]\n",
    "energy_length = energy.shape[0]\n",
    "t = np.linspace(0, energy_length-1, energy_length // 1000,dtype=int)\n",
    "energy = energy[t]\n",
    "distance = distance[t,:]\n",
    "energy = np.reshape(energy,(len(energy),1))"
   ],
   "id": "5ffbe9ba6d7eccdc",
   "outputs": [],
   "execution_count": null
  },
  {
   "metadata": {},
   "cell_type": "code",
   "source": "o, cp, mean_trend = SLM_tools.beast(energy)",
   "id": "223827e2a50d6c34",
   "outputs": [],
   "execution_count": null
  },
  {
   "metadata": {},
   "cell_type": "code",
   "source": "A = SLM_tools.segment_data(energy, distance,mean_trend,cp)",
   "id": "4061936b8f8c9bf4",
   "outputs": [],
   "execution_count": null
  }
 ],
 "metadata": {
  "kernelspec": {
   "display_name": "Python 3",
   "language": "python",
   "name": "python3"
  },
  "language_info": {
   "codemirror_mode": {
    "name": "ipython",
    "version": 2
   },
   "file_extension": ".py",
   "mimetype": "text/x-python",
   "name": "python",
   "nbconvert_exporter": "python",
   "pygments_lexer": "ipython2",
   "version": "2.7.6"
  }
 },
 "nbformat": 4,
 "nbformat_minor": 5
}
