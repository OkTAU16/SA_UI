{
 "cells": [
  {
   "metadata": {
    "ExecuteTime": {
     "end_time": "2024-07-20T13:28:31.542225Z",
     "start_time": "2024-07-20T13:28:29.756033Z"
    }
   },
   "cell_type": "code",
   "source": [
    "import os\n",
    "import numpy as np\n",
    "from scipy import interpolate\n",
    "import scipy.io \n",
    "import Rbeast as rb\n",
    "from SLM_tools import *\n",
    "import pickle\n",
    "import re"
   ],
   "id": "db1fcc1f0360fa9",
   "outputs": [],
   "execution_count": 1
  },
  {
   "metadata": {
    "ExecuteTime": {
     "end_time": "2024-07-20T13:28:31.558118Z",
     "start_time": "2024-07-20T13:28:31.544173Z"
    }
   },
   "cell_type": "code",
   "source": [
    "path1 = r\"C:\\Users\\User\\OneDrive - mail.tau.ac.il\\Documents\\SA_UI\\testing data\\energy_distance_mu_0.2_run_num_1.csv\"\n",
    "path2 = r\"C:\\Users\\User\\OneDrive - mail.tau.ac.il\\Documents\\SA_UI\\testing data\\energy_distance_mu_0.2_run_num_2.csv\""
   ],
   "id": "3628c7ef0d58bdad",
   "outputs": [],
   "execution_count": 2
  },
  {
   "metadata": {
    "ExecuteTime": {
     "end_time": "2024-07-20T13:29:43.872744Z",
     "start_time": "2024-07-20T13:28:31.558118Z"
    }
   },
   "cell_type": "code",
   "source": [
    "data = SLM_tools.load_data(path1,2,'csv',False)\n",
    "energy = data[0]\n",
    "distance = data[1]\n",
    "energy, distance, time_vec = SLM_tools.downsample(energy,distance,1000)\n",
    "o, cp, mean_trend = SLM_tools.beast(energy)"
   ],
   "id": "58b922b572a6d497",
   "outputs": [
    {
     "name": "stdout",
     "output_type": "stream",
     "text": [
      "\n",
      "INFO: To supress printing the parameers in beast(),      set print.options = 0 \n",
      "INFO: To supress printing the parameers in beast_irreg(),set print.options = 0 \n",
      "INFO: To supress printing the parameers in beast123(),   set extra.printOptions = 0  \n",
      "INFO: To supress warning messages in beast(),            set quiet = 1 \n",
      "INFO: To supress warning messages in beast_irreg(),      set quiet = 1 \n",
      "INFO: To supress warning messages in beast123(),         set extra.quiet = 1  \n",
      "\n",
      "#--------------------------------------------------#\n",
      "#       Brief summary of Input Data                #\n",
      "#--------------------------------------------------#\n",
      "Data Dimension: One signal of length 50000\n",
      "IsOrdered     : Yes, ordered in time\n",
      "IsRegular     : Yes, evenly spaced at interval of  1 (unknown unit)\n",
      "hasSeasonCmpnt: False | no periodic or seasonal component. The model Y=Trend+Error is fitted.\n",
      "HasOutlierCmpt: False | If true, Y=Trend+Outlier+Error (experimental) is fitted instead of Y=Trend+Error \n",
      "Detrend       : False | If true, remove a global trend component before running BEAST & add it back after BEAST\n",
      "MissingValue  : NaN  flagged as missing values \n",
      "MaxMissingRate: if more than 75% of data is missing, BEAST will skip it.\n",
      "\n",
      "\n",
      "#--------------------------------------------------#\n",
      "#      OPTIONS used in the MCMC inference          #\n",
      "#--------------------------------------------------#\n",
      "\n",
      "#......Start of displaying 'MetaData' ......\n",
      "metadata                =  rb.args() ### or 'lambda: None': just get an empty object### # metadata is used to interpret the input data Y\n",
      "metadata.season         = 'none'     # trend-only data with no periodic variation\n",
      "metadata.startTime      = 0          # unknown unit\n",
      "metadata.deltaTime      = 1          # unknown unit\n",
      "metadata.maxMissingRate = 0.75       # if more than 75% of data is missing, BEAST will skip it.\n",
      "metadata.detrend        = False      # if true,remove a global trend  cmpnt before running BEAST & add it back later\n",
      "#........End of displaying MetaData ........\n",
      "\n",
      "#......Start of displaying 'prior' ......\n",
      "prior                   =  rb.args() ### or 'lambda: None': just get an empty object### # prior is the true model parameters of BEAST\n",
      "prior.trendMinOrder     = 1          # torder.minmax[1]: min trend polynomial order alllowed\n",
      "prior.trendMaxOrder     = 1          # torder.minmax[2]: max trend polynomial order alllowed\n",
      "prior.trendMinKnotNum   = 0          # tcp.minmax[1]   : min num of chngpts in trend allowed\n",
      "prior.trendMaxKnotNum   = 8          # tcp.minmax[2]   : max num of chngpts in trend allowed\n",
      "prior.trendMinSepDist   = 5000       # tseg.min        : min trend segment length in terms of datapoints\n",
      "prior.trendLeftMargin   = 5000       # tseg.leftmargin : no trend chngpts in the first 5000 datapoints\n",
      "prior.trendRightMargin  = 5000       # tseg.rightmargin: no trend chngpts in the last 5000 datapoints\n",
      "prior.K_MAX             = 18         # max number of terms in general linear model (relevant only at small values)\n",
      "prior.precValue         = 1.5        # useful mainly when precPriorType='constant'\n",
      "prior.modelPriorType    = 1         \n",
      "prior.precPriorType     = 'uniform'\n",
      "#......End of displaying prior ......\n",
      "\n",
      "#......Start of displaying 'mcmc' ......\n",
      "mcmc                           =  rb.args() ### or 'lambda: None': just get an empty object### # mcmc is not BEAST parameters but MCMC sampler options\n",
      "mcmc.seed                      = 0          # A nonzero seed to replicate among runs\n",
      "mcmc.samples                   = 8000       # Number of samples saved per chain: the larger, the better\n",
      "mcmc.thinningFactor            = 5          # Thinning the chain: the larger, the better \n",
      "mcmc.burnin                    = 200        # Number of initial samples discarded: the larger, the better\n",
      "mcmc.chainNumber               = 3          # Number of chains: the larger, the better\n",
      "mcmc.maxMoveStepSize           = 6          # Max step of jumping from current changepoint: No need to change\n",
      "mcmc.trendResamplingOrderProb  = 0          # Proposal probability of sampling trend polynominal order \n",
      "mcmc.credIntervalAlphaLevel    = 0.95       # The alphal level for Credible Intervals\n",
      "# Total number of models randomly visited in BEAST is (burnin+sampples*thinFactor)*chainNumber=120600\n",
      "#......End of displaying mcmc ......\n",
      "\n",
      "#......Start of displaying 'extra' ......\n",
      "extra                      =  rb.args() ### or 'lambda: None': just get an empty object### # extra is used to configure output/computing options\n",
      "extra.dumpInputData        = True  # if true, dump a copy of the input data as o.data \n",
      "extra.whichOutputDimIsTime = 1     # 1,2 or 3; which dim of the result is time; used for a 2D/3D input Y\n",
      "extra.computeCredible      = True  # if true, compute  credibiel interval of estimated Y (e.g., o.trend.CI)\n",
      "extra.fastCIComputation    = True  # if true, do not sort but approximiate CI \n",
      "extra.computeTrendOrder    = True  # if true, dump the estimated trend polynomial order \n",
      "extra.computeTrendChngpt   = True  # if true, dump the trend changepoints (tcp) in the output \n",
      "extra.computeTrendSlope    = True  # if true, dump the time-varying slope in trend\n",
      "extra.tallyPosNegTrendJump = False # differentiate postive/negative jumps at tcp\n",
      "extra.tallyIncDecTrendJump = False # differentiate increased/decreased slopes at tcp\n",
      "extra.printProgressBar     = True  # if true, show an ascii progressbar\n",
      "extra.printOptions         = True  # if true, print the option of the BEAST run\n",
      "extra.consoleWidth         = 85    # an integer specifying the console width for printing\n",
      "extra.numThreadsPerCPU     = 2     # each cpu core spawns 2 concurrent threads (for beast123())\n",
      "extra.numParThreads        = 0     # total number of threads (for beast123() only)\n",
      "#......End of displaying extra ......\n",
      "\n",
      "-Progress:100.0% done[==============================================================]\n"
     ]
    }
   ],
   "execution_count": 3
  },
  {
   "metadata": {
    "ExecuteTime": {
     "end_time": "2024-07-20T13:29:43.920231Z",
     "start_time": "2024-07-20T13:29:43.873882Z"
    }
   },
   "cell_type": "code",
   "source": "A = SLM_tools.segment_data(energy, distance,mean_trend,cp)",
   "id": "65abc06c02fb43b7",
   "outputs": [],
   "execution_count": 4
  },
  {
   "metadata": {
    "ExecuteTime": {
     "end_time": "2024-07-20T13:30:59.659067Z",
     "start_time": "2024-07-20T13:29:43.920231Z"
    }
   },
   "cell_type": "code",
   "source": [
    "data2 = SLM_tools.load_data(path2,2,'csv',False)\n",
    "energy2 = data2[0]\n",
    "distance2 = data2[1]\n",
    "energy2, distance2, time_vec = SLM_tools.downsample(energy2,distance2,1000)\n",
    "o2, cp2, mean_trend2 = SLM_tools.beast(energy2)"
   ],
   "id": "4e0b042ec1e5f87b",
   "outputs": [
    {
     "name": "stdout",
     "output_type": "stream",
     "text": [
      "\n",
      "INFO: To supress printing the parameers in beast(),      set print.options = 0 \n",
      "INFO: To supress printing the parameers in beast_irreg(),set print.options = 0 \n",
      "INFO: To supress printing the parameers in beast123(),   set extra.printOptions = 0  \n",
      "INFO: To supress warning messages in beast(),            set quiet = 1 \n",
      "INFO: To supress warning messages in beast_irreg(),      set quiet = 1 \n",
      "INFO: To supress warning messages in beast123(),         set extra.quiet = 1  \n",
      "\n",
      "#--------------------------------------------------#\n",
      "#       Brief summary of Input Data                #\n",
      "#--------------------------------------------------#\n",
      "Data Dimension: One signal of length 50000\n",
      "IsOrdered     : Yes, ordered in time\n",
      "IsRegular     : Yes, evenly spaced at interval of  1 (unknown unit)\n",
      "hasSeasonCmpnt: False | no periodic or seasonal component. The model Y=Trend+Error is fitted.\n",
      "HasOutlierCmpt: False | If true, Y=Trend+Outlier+Error (experimental) is fitted instead of Y=Trend+Error \n",
      "Detrend       : False | If true, remove a global trend component before running BEAST & add it back after BEAST\n",
      "MissingValue  : NaN  flagged as missing values \n",
      "MaxMissingRate: if more than 75% of data is missing, BEAST will skip it.\n",
      "\n",
      "\n",
      "#--------------------------------------------------#\n",
      "#      OPTIONS used in the MCMC inference          #\n",
      "#--------------------------------------------------#\n",
      "\n",
      "#......Start of displaying 'MetaData' ......\n",
      "metadata                =  rb.args() ### or 'lambda: None': just get an empty object### # metadata is used to interpret the input data Y\n",
      "metadata.season         = 'none'     # trend-only data with no periodic variation\n",
      "metadata.startTime      = 0          # unknown unit\n",
      "metadata.deltaTime      = 1          # unknown unit\n",
      "metadata.maxMissingRate = 0.75       # if more than 75% of data is missing, BEAST will skip it.\n",
      "metadata.detrend        = False      # if true,remove a global trend  cmpnt before running BEAST & add it back later\n",
      "#........End of displaying MetaData ........\n",
      "\n",
      "#......Start of displaying 'prior' ......\n",
      "prior                   =  rb.args() ### or 'lambda: None': just get an empty object### # prior is the true model parameters of BEAST\n",
      "prior.trendMinOrder     = 1          # torder.minmax[1]: min trend polynomial order alllowed\n",
      "prior.trendMaxOrder     = 1          # torder.minmax[2]: max trend polynomial order alllowed\n",
      "prior.trendMinKnotNum   = 0          # tcp.minmax[1]   : min num of chngpts in trend allowed\n",
      "prior.trendMaxKnotNum   = 8          # tcp.minmax[2]   : max num of chngpts in trend allowed\n",
      "prior.trendMinSepDist   = 5000       # tseg.min        : min trend segment length in terms of datapoints\n",
      "prior.trendLeftMargin   = 5000       # tseg.leftmargin : no trend chngpts in the first 5000 datapoints\n",
      "prior.trendRightMargin  = 5000       # tseg.rightmargin: no trend chngpts in the last 5000 datapoints\n",
      "prior.K_MAX             = 18         # max number of terms in general linear model (relevant only at small values)\n",
      "prior.precValue         = 1.5        # useful mainly when precPriorType='constant'\n",
      "prior.modelPriorType    = 1         \n",
      "prior.precPriorType     = 'uniform'\n",
      "#......End of displaying prior ......\n",
      "\n",
      "#......Start of displaying 'mcmc' ......\n",
      "mcmc                           =  rb.args() ### or 'lambda: None': just get an empty object### # mcmc is not BEAST parameters but MCMC sampler options\n",
      "mcmc.seed                      = 0          # A nonzero seed to replicate among runs\n",
      "mcmc.samples                   = 8000       # Number of samples saved per chain: the larger, the better\n",
      "mcmc.thinningFactor            = 5          # Thinning the chain: the larger, the better \n",
      "mcmc.burnin                    = 200        # Number of initial samples discarded: the larger, the better\n",
      "mcmc.chainNumber               = 3          # Number of chains: the larger, the better\n",
      "mcmc.maxMoveStepSize           = 6          # Max step of jumping from current changepoint: No need to change\n",
      "mcmc.trendResamplingOrderProb  = 0          # Proposal probability of sampling trend polynominal order \n",
      "mcmc.credIntervalAlphaLevel    = 0.95       # The alphal level for Credible Intervals\n",
      "# Total number of models randomly visited in BEAST is (burnin+sampples*thinFactor)*chainNumber=120600\n",
      "#......End of displaying mcmc ......\n",
      "\n",
      "#......Start of displaying 'extra' ......\n",
      "extra                      =  rb.args() ### or 'lambda: None': just get an empty object### # extra is used to configure output/computing options\n",
      "extra.dumpInputData        = True  # if true, dump a copy of the input data as o.data \n",
      "extra.whichOutputDimIsTime = 1     # 1,2 or 3; which dim of the result is time; used for a 2D/3D input Y\n",
      "extra.computeCredible      = True  # if true, compute  credibiel interval of estimated Y (e.g., o.trend.CI)\n",
      "extra.fastCIComputation    = True  # if true, do not sort but approximiate CI \n",
      "extra.computeTrendOrder    = True  # if true, dump the estimated trend polynomial order \n",
      "extra.computeTrendChngpt   = True  # if true, dump the trend changepoints (tcp) in the output \n",
      "extra.computeTrendSlope    = True  # if true, dump the time-varying slope in trend\n",
      "extra.tallyPosNegTrendJump = False # differentiate postive/negative jumps at tcp\n",
      "extra.tallyIncDecTrendJump = False # differentiate increased/decreased slopes at tcp\n",
      "extra.printProgressBar     = True  # if true, show an ascii progressbar\n",
      "extra.printOptions         = True  # if true, print the option of the BEAST run\n",
      "extra.consoleWidth         = 85    # an integer specifying the console width for printing\n",
      "extra.numThreadsPerCPU     = 2     # each cpu core spawns 2 concurrent threads (for beast123())\n",
      "extra.numParThreads        = 0     # total number of threads (for beast123() only)\n",
      "#......End of displaying extra ......\n",
      "\n",
      "\\Progress:100.0% done[==============================================================]\n"
     ]
    }
   ],
   "execution_count": 5
  },
  {
   "metadata": {
    "ExecuteTime": {
     "end_time": "2024-07-20T13:30:59.674919Z",
     "start_time": "2024-07-20T13:30:59.659067Z"
    }
   },
   "cell_type": "code",
   "source": "B = SLM_tools.segment_data(energy2, distance2,mean_trend2,cp2)",
   "id": "f55a09fa37e49576",
   "outputs": [],
   "execution_count": 6
  },
  {
   "metadata": {
    "ExecuteTime": {
     "end_time": "2024-07-20T13:30:59.690713Z",
     "start_time": "2024-07-20T13:30:59.676532Z"
    }
   },
   "cell_type": "code",
   "source": [
    "C = []\n",
    "C.append(A)\n",
    "C.append(B)"
   ],
   "id": "52ef79aa73d6b545",
   "outputs": [],
   "execution_count": 7
  },
  {
   "metadata": {
    "ExecuteTime": {
     "end_time": "2024-07-20T13:30:59.706462Z",
     "start_time": "2024-07-20T13:30:59.690713Z"
    }
   },
   "cell_type": "code",
   "source": [
    "with open('extracted_features_mu_0.2.pkl', 'wb') as file:\n",
    "    pickle.dump(C, file)"
   ],
   "id": "9645daf185f5ad56",
   "outputs": [],
   "execution_count": 8
  },
  {
   "metadata": {
    "ExecuteTime": {
     "end_time": "2024-07-20T13:30:59.722303Z",
     "start_time": "2024-07-20T13:30:59.706462Z"
    }
   },
   "cell_type": "code",
   "source": [
    "with open('extracted_features_mu_0.2.pkl', 'rb') as file:\n",
    "    loaded_C = pickle.load(file)"
   ],
   "id": "d0f9e7ca4cc4b6ea",
   "outputs": [],
   "execution_count": 9
  },
  {
   "metadata": {
    "ExecuteTime": {
     "end_time": "2024-07-20T13:30:59.753807Z",
     "start_time": "2024-07-20T13:30:59.723969Z"
    }
   },
   "cell_type": "code",
   "source": "loaded_C",
   "id": "f117e1dbe2d2e823",
   "outputs": [
    {
     "data": {
      "text/plain": [
       "[[array([[-62.35478047],\n",
       "         [-56.97475421],\n",
       "         [-54.01507133],\n",
       "         [-54.79772727],\n",
       "         [-57.56755477]]),\n",
       "  array([[19.74291086],\n",
       "         [14.81567145],\n",
       "         [13.25544642],\n",
       "         [12.87340967],\n",
       "         [13.57567309]]),\n",
       "  array([[-25.36819576],\n",
       "         [ -4.81387939],\n",
       "         [ -4.48507454],\n",
       "         [ -1.27758838],\n",
       "         [ -2.56831266]]),\n",
       "  array([[ 6924.],\n",
       "         [21164.],\n",
       "         [29856.],\n",
       "         [35356.],\n",
       "         [43801.]]),\n",
       "  array([[-1.42915806e-03],\n",
       "         [-2.28357175e-04],\n",
       "         [-5.99643848e-05],\n",
       "         [ 1.01872048e-03],\n",
       "         [ 9.83552273e-04]]),\n",
       "  array([[0.],\n",
       "         [0.],\n",
       "         [0.],\n",
       "         [0.],\n",
       "         [0.]]),\n",
       "  array([[nan],\n",
       "         [nan],\n",
       "         [nan],\n",
       "         [nan],\n",
       "         [nan]])],\n",
       " [array([[-55.42533091],\n",
       "         [-58.39829107],\n",
       "         [-56.02851234],\n",
       "         [-56.14836179],\n",
       "         [-65.05037874]]),\n",
       "  array([[12.83582855],\n",
       "         [15.9915792 ],\n",
       "         [12.69493879],\n",
       "         [12.47315934],\n",
       "         [25.48583099]]),\n",
       "  array([[ -1.81982487],\n",
       "         [-10.11889066],\n",
       "         [ -0.12065412],\n",
       "         [ -0.61684675],\n",
       "         [-51.39964334]]),\n",
       "  array([[ 9897.],\n",
       "         [20781.],\n",
       "         [27550.],\n",
       "         [34051.],\n",
       "         [42368.]]),\n",
       "  array([[ 0.00040253],\n",
       "         [ 0.00169854],\n",
       "         [ 0.00052028],\n",
       "         [-0.00128296],\n",
       "         [ 0.00388309]]),\n",
       "  array([[0.],\n",
       "         [0.],\n",
       "         [0.],\n",
       "         [0.],\n",
       "         [1.]]),\n",
       "  array([[34051.],\n",
       "         [24154.],\n",
       "         [13270.],\n",
       "         [ 6501.],\n",
       "         [    0.]])]]"
      ]
     },
     "execution_count": 10,
     "metadata": {},
     "output_type": "execute_result"
    }
   ],
   "execution_count": 10
  },
  {
   "metadata": {
    "ExecuteTime": {
     "end_time": "2024-07-20T13:30:59.765499Z",
     "start_time": "2024-07-20T13:30:59.755022Z"
    }
   },
   "cell_type": "code",
   "source": "c_reduced = SLM_tools.post_beast_processing(loaded_C)",
   "id": "f02ed528a25a7c7b",
   "outputs": [],
   "execution_count": 11
  },
  {
   "metadata": {
    "ExecuteTime": {
     "end_time": "2024-07-20T13:30:59.781122Z",
     "start_time": "2024-07-20T13:30:59.767432Z"
    }
   },
   "cell_type": "code",
   "source": [
    "with open('c_reduced_mu_0.2.pkl', 'wb') as file:\n",
    "    pickle.dump(c_reduced, file)"
   ],
   "id": "e315b85a2702a84c",
   "outputs": [],
   "execution_count": 12
  },
  {
   "metadata": {
    "ExecuteTime": {
     "end_time": "2024-07-20T13:30:59.812025Z",
     "start_time": "2024-07-20T13:30:59.782741Z"
    }
   },
   "cell_type": "code",
   "source": "principal_components, score, latent = SLM_tools.pca(c_reduced,5)",
   "id": "117f636635e01dd3",
   "outputs": [],
   "execution_count": 13
  },
  {
   "metadata": {
    "ExecuteTime": {
     "end_time": "2024-07-20T13:30:59.827686Z",
     "start_time": "2024-07-20T13:30:59.815370Z"
    }
   },
   "cell_type": "code",
   "source": [
    "with open('pca_score_mu_0.2.pkl', 'wb') as file:\n",
    "    pickle.dump(c_reduced, file)"
   ],
   "id": "1c03bc2fd506f12e",
   "outputs": [],
   "execution_count": 14
  },
  {
   "metadata": {
    "ExecuteTime": {
     "end_time": "2024-07-20T13:31:17.980603Z",
     "start_time": "2024-07-20T13:31:17.950124Z"
    }
   },
   "cell_type": "code",
   "source": "c_reduced",
   "id": "309bdff7cac47b60",
   "outputs": [
    {
     "data": {
      "text/plain": [
       "array([[-6.23547805e+01,  1.97429109e+01, -1.42915806e-03,\n",
       "        -2.53681958e+01,  6.92400000e+03,             nan],\n",
       "       [-5.69747542e+01,  1.48156714e+01, -2.28357175e-04,\n",
       "        -4.81387939e+00,  2.11640000e+04,             nan],\n",
       "       [-5.40150713e+01,  1.32554464e+01, -5.99643848e-05,\n",
       "        -4.48507454e+00,  2.98560000e+04,             nan],\n",
       "       [-5.47977273e+01,  1.28734097e+01,  1.01872048e-03,\n",
       "        -1.27758838e+00,  3.53560000e+04,             nan],\n",
       "       [-5.75675548e+01,  1.35756731e+01,  9.83552273e-04,\n",
       "        -2.56831266e+00,  4.38010000e+04,             nan],\n",
       "       [-5.54253309e+01,  1.28358285e+01,  4.02530804e-04,\n",
       "        -1.81982487e+00,  9.89700000e+03,  3.40510000e+04],\n",
       "       [-5.83982911e+01,  1.59915792e+01,  1.69854142e-03,\n",
       "        -1.01188907e+01,  2.07810000e+04,  2.41540000e+04],\n",
       "       [-5.60285123e+01,  1.26949388e+01,  5.20279100e-04,\n",
       "        -1.20654119e-01,  2.75500000e+04,  1.32700000e+04],\n",
       "       [-5.61483618e+01,  1.24731593e+01, -1.28296066e-03,\n",
       "        -6.16846751e-01,  3.40510000e+04,  6.50100000e+03]])"
      ]
     },
     "execution_count": 15,
     "metadata": {},
     "output_type": "execute_result"
    }
   ],
   "execution_count": 15
  },
  {
   "metadata": {
    "ExecuteTime": {
     "end_time": "2024-07-20T13:31:26.065244Z",
     "start_time": "2024-07-20T13:31:26.051736Z"
    }
   },
   "cell_type": "code",
   "source": "score",
   "id": "fe17b4aa4a200202",
   "outputs": [
    {
     "data": {
      "text/plain": [
       "array([[ 4.86339363e+00, -3.38429765e-01, -2.99991444e-01,\n",
       "         8.41583352e-02, -6.05340488e-02],\n",
       "       [ 3.52153356e-01, -3.66028475e-01,  2.27339458e-01,\n",
       "        -1.00610287e-01,  2.78226902e-01],\n",
       "       [-1.00113191e+00, -5.64654521e-01,  1.19389684e-01,\n",
       "         7.68664505e-01, -2.63032120e-02],\n",
       "       [-1.61986790e+00,  4.81950700e-01, -1.61886511e-01,\n",
       "         3.26959511e-01, -3.51067435e-03],\n",
       "       [-1.06490953e+00,  8.25720256e-01, -1.32165874e+00,\n",
       "        -2.47787860e-01, -4.62128978e-02],\n",
       "       [-4.21478704e-01, -2.01079223e-01,  1.64121405e+00,\n",
       "        -2.58539630e-01, -9.74625177e-02],\n",
       "       [ 8.01637337e-01,  1.79752015e+00,  2.48443345e-01,\n",
       "        -8.22556504e-04,  1.83819654e-02],\n",
       "       [-1.08337491e+00,  2.86923528e-02,  2.05906021e-01,\n",
       "        -3.12852261e-01, -2.97872829e-02],\n",
       "       [-8.26421370e-01, -1.66369148e+00, -6.58755862e-01,\n",
       "        -2.59169756e-01, -3.27982334e-02]])"
      ]
     },
     "execution_count": 16,
     "metadata": {},
     "output_type": "execute_result"
    }
   ],
   "execution_count": 16
  },
  {
   "metadata": {
    "ExecuteTime": {
     "end_time": "2024-07-20T13:33:04.167742Z",
     "start_time": "2024-07-20T13:32:00.160659Z"
    }
   },
   "cell_type": "code",
   "source": "a_reduced = SLM_tools.post_pca_processing(score, c_reduced,5)",
   "id": "879967026f525218",
   "outputs": [],
   "execution_count": 19
  },
  {
   "metadata": {
    "ExecuteTime": {
     "end_time": "2024-07-20T13:31:40.238130Z",
     "start_time": "2024-07-20T13:31:40.230414Z"
    }
   },
   "cell_type": "code",
   "source": "a_reduced",
   "id": "caf7d2b9fb50d5a8",
   "outputs": [
    {
     "data": {
      "text/plain": [
       "array([[ 4.86339363e+00, -3.38429765e-01, -6.05340488e-02,\n",
       "        -2.99991444e-01,  8.41583352e-02,             nan],\n",
       "       [ 3.52153356e-01, -3.66028475e-01,  2.78226902e-01,\n",
       "         2.27339458e-01, -1.00610287e-01,             nan],\n",
       "       [-1.00113191e+00, -5.64654521e-01, -2.63032120e-02,\n",
       "         1.19389684e-01,  7.68664505e-01,             nan],\n",
       "       [-1.61986790e+00,  4.81950700e-01, -3.51067435e-03,\n",
       "        -1.61886511e-01,  3.26959511e-01,             nan],\n",
       "       [-1.06490953e+00,  8.25720256e-01, -4.62128978e-02,\n",
       "        -1.32165874e+00, -2.47787860e-01,             nan],\n",
       "       [-4.21478704e-01, -2.01079223e-01, -9.74625177e-02,\n",
       "         1.64121405e+00, -2.58539630e-01,  3.40510000e+04],\n",
       "       [ 8.01637337e-01,  1.79752015e+00,  1.83819654e-02,\n",
       "         2.48443345e-01, -8.22556504e-04,  2.41540000e+04],\n",
       "       [-1.08337491e+00,  2.86923528e-02, -2.97872829e-02,\n",
       "         2.05906021e-01, -3.12852261e-01,  1.32700000e+04],\n",
       "       [-8.26421370e-01, -1.66369148e+00, -3.27982334e-02,\n",
       "        -6.58755862e-01, -2.59169756e-01,  6.50100000e+03]])"
      ]
     },
     "execution_count": 18,
     "metadata": {},
     "output_type": "execute_result"
    }
   ],
   "execution_count": 18
  },
  {
   "metadata": {
    "ExecuteTime": {
     "end_time": "2024-07-20T13:36:40.831031Z",
     "start_time": "2024-07-20T13:36:40.816947Z"
    }
   },
   "cell_type": "code",
   "source": [
    "with open('a_reduced_mu_0.2.pkl', 'wb') as file:\n",
    "    pickle.dump(a_reduced, file)"
   ],
   "id": "4edaa080705e4082",
   "outputs": [],
   "execution_count": 20
  },
  {
   "metadata": {
    "ExecuteTime": {
     "end_time": "2024-07-20T13:38:36.451454Z",
     "start_time": "2024-07-20T13:38:36.419861Z"
    }
   },
   "cell_type": "code",
   "source": "a_reduced",
   "id": "210572a7a4609bfb",
   "outputs": [
    {
     "data": {
      "text/plain": [
       "array([[ 4.86339363e+00, -3.38429765e-01, -6.05340488e-02,\n",
       "        -2.99991444e-01,  8.41583352e-02,             nan],\n",
       "       [ 3.52153356e-01, -3.66028475e-01,  2.78226902e-01,\n",
       "         2.27339458e-01, -1.00610287e-01,             nan],\n",
       "       [-1.00113191e+00, -5.64654521e-01, -2.63032120e-02,\n",
       "         1.19389684e-01,  7.68664505e-01,             nan],\n",
       "       [-1.61986790e+00,  4.81950700e-01, -3.51067435e-03,\n",
       "        -1.61886511e-01,  3.26959511e-01,             nan],\n",
       "       [-1.06490953e+00,  8.25720256e-01, -4.62128978e-02,\n",
       "        -1.32165874e+00, -2.47787860e-01,             nan],\n",
       "       [-4.21478704e-01, -2.01079223e-01, -9.74625177e-02,\n",
       "         1.64121405e+00, -2.58539630e-01,  3.40510000e+04],\n",
       "       [ 8.01637337e-01,  1.79752015e+00,  1.83819654e-02,\n",
       "         2.48443345e-01, -8.22556504e-04,  2.41540000e+04],\n",
       "       [-1.08337491e+00,  2.86923528e-02, -2.97872829e-02,\n",
       "         2.05906021e-01, -3.12852261e-01,  1.32700000e+04],\n",
       "       [-8.26421370e-01, -1.66369148e+00, -3.27982334e-02,\n",
       "        -6.58755862e-01, -2.59169756e-01,  6.50100000e+03]])"
      ]
     },
     "execution_count": 22,
     "metadata": {},
     "output_type": "execute_result"
    }
   ],
   "execution_count": 22
  },
  {
   "metadata": {
    "ExecuteTime": {
     "end_time": "2024-07-20T13:38:48.251903Z",
     "start_time": "2024-07-20T13:38:48.236191Z"
    }
   },
   "cell_type": "code",
   "source": "idn = np.where(a_reduced[:, 5] != 0)",
   "id": "4100eeb5a4c40365",
   "outputs": [],
   "execution_count": 24
  },
  {
   "metadata": {
    "ExecuteTime": {
     "end_time": "2024-07-20T13:38:52.302384Z",
     "start_time": "2024-07-20T13:38:52.287756Z"
    }
   },
   "cell_type": "code",
   "source": "idn",
   "id": "604da891808db7a7",
   "outputs": [
    {
     "data": {
      "text/plain": [
       "(array([0, 1, 2, 3, 4, 5, 6, 7, 8], dtype=int64),)"
      ]
     },
     "execution_count": 25,
     "metadata": {},
     "output_type": "execute_result"
    }
   ],
   "execution_count": 25
  },
  {
   "metadata": {
    "ExecuteTime": {
     "end_time": "2024-07-20T13:42:52.239318Z",
     "start_time": "2024-07-20T13:42:52.223923Z"
    }
   },
   "cell_type": "code",
   "source": "a_reduced[:, 5]",
   "id": "2da1452b2566be9c",
   "outputs": [
    {
     "data": {
      "text/plain": [
       "array([   nan,    nan,    nan,    nan,    nan, 34051., 24154., 13270.,\n",
       "        6501.])"
      ]
     },
     "execution_count": 26,
     "metadata": {},
     "output_type": "execute_result"
    }
   ],
   "execution_count": 26
  },
  {
   "metadata": {
    "ExecuteTime": {
     "end_time": "2024-07-20T13:46:29.611277Z",
     "start_time": "2024-07-20T13:46:29.599277Z"
    }
   },
   "cell_type": "code",
   "source": "np.random.seed(42)",
   "id": "d885302bacf0c974",
   "outputs": [],
   "execution_count": 27
  },
  {
   "metadata": {
    "ExecuteTime": {
     "end_time": "2024-07-20T13:46:34.435541Z",
     "start_time": "2024-07-20T13:46:34.424020Z"
    }
   },
   "cell_type": "code",
   "source": "idn = np.where(a_reduced[:, 5] != 0)",
   "id": "280a640723dc9ad3",
   "outputs": [],
   "execution_count": 28
  },
  {
   "metadata": {
    "ExecuteTime": {
     "end_time": "2024-07-20T13:46:38.282950Z",
     "start_time": "2024-07-20T13:46:38.252445Z"
    }
   },
   "cell_type": "code",
   "source": "idn",
   "id": "475c650948d5b01c",
   "outputs": [
    {
     "data": {
      "text/plain": [
       "(array([0, 1, 2, 3, 4, 5, 6, 7, 8], dtype=int64),)"
      ]
     },
     "execution_count": 29,
     "metadata": {},
     "output_type": "execute_result"
    }
   ],
   "execution_count": 29
  },
  {
   "metadata": {
    "ExecuteTime": {
     "end_time": "2024-07-20T13:46:50.804221Z",
     "start_time": "2024-07-20T13:46:50.798018Z"
    }
   },
   "cell_type": "code",
   "source": "mapx = a_reduced[idn, :]",
   "id": "d0d47571f5d685d9",
   "outputs": [],
   "execution_count": 31
  },
  {
   "metadata": {
    "ExecuteTime": {
     "end_time": "2024-07-20T13:47:01.969790Z",
     "start_time": "2024-07-20T13:47:01.966263Z"
    }
   },
   "cell_type": "code",
   "source": "mapx.shape",
   "id": "9236ed4ac4cc5e42",
   "outputs": [
    {
     "data": {
      "text/plain": [
       "(1, 9, 6)"
      ]
     },
     "execution_count": 33,
     "metadata": {},
     "output_type": "execute_result"
    }
   ],
   "execution_count": 33
  },
  {
   "metadata": {
    "ExecuteTime": {
     "end_time": "2024-07-20T13:37:07.439856Z",
     "start_time": "2024-07-20T13:37:06.648846Z"
    }
   },
   "cell_type": "code",
   "source": [
    "np.random.seed(42)\n",
    "idn = np.where(a_reduced[:, 5] != 0)\n",
    "mapx = a_reduced[idn, :]\n",
    "mapx = np.hstack((mapx[:, 0:2], np.log(mapx[:, 3])))\n",
    "median_fit_vec = np.median(mapx[:, 3], axis=0)  # line 54 matlab\n",
    "min = np.min(mapx[:, 3], axis=0)\n",
    "max = np.max(mapx[:, 3], axis=0)\n",
    "xw = mapx[:, 3]\n",
    "points = np.linspace(min, max, 1000)\n",
    "f_x = scipy.stats.gaussian_kde(points)  # line 60 matlab\n",
    "p_x = f_x[xw]\n",
    "yo = np.sort(mapx[:, 3])\n",
    "aop = int(np.ceil((0.16 * len(yo)))) - 1\n",
    "std_fit = np.median(mapx[:, 3], axis=0) - yo[aop]\n",
    "x = np.copy(mapx)\n",
    "train_index = int(np.floor(0.6 * x.shape[0]))\n",
    "validation_index = int(np.floor(0.8 * x.shape[0]))\n",
    "size_validation_set = len(range(train_index, validation_index))\n",
    "tfas_predict_mat = np.zeros((10, size_validation_set))\n",
    "tfas_actually_mat = np.zeros((10, size_validation_set))\n",
    "mean_error_mat = np.zeros((10, size_validation_set))"
   ],
   "id": "a96855275c8e11c3",
   "outputs": [
    {
     "ename": "IndexError",
     "evalue": "index 6 is out of bounds for axis 1 with size 6",
     "output_type": "error",
     "traceback": [
      "\u001B[1;31m---------------------------------------------------------------------------\u001B[0m",
      "\u001B[1;31mIndexError\u001B[0m                                Traceback (most recent call last)",
      "\u001B[1;32m~\\AppData\\Local\\Temp\\ipykernel_21760\\2303311891.py\u001B[0m in \u001B[0;36m<module>\u001B[1;34m\u001B[0m\n\u001B[1;32m----> 1\u001B[1;33m \u001B[0mYI\u001B[0m\u001B[1;33m,\u001B[0m \u001B[0mtfas_predict_mat\u001B[0m\u001B[1;33m,\u001B[0m \u001B[0mtfas_actually_mat\u001B[0m\u001B[1;33m,\u001B[0m \u001B[0mmean_error_mat\u001B[0m\u001B[1;33m,\u001B[0m \u001B[0mtrain_index\u001B[0m\u001B[1;33m,\u001B[0m \u001B[0mrandom_x\u001B[0m\u001B[1;33m,\u001B[0m \u001B[0mvalidation_index\u001B[0m\u001B[1;33m,\u001B[0m \u001B[0mmedian_fit_vec\u001B[0m \u001B[1;33m=\u001B[0m \u001B[0mSLM_tools\u001B[0m\u001B[1;33m.\u001B[0m\u001B[0mmodel_training_with_cv\u001B[0m\u001B[1;33m(\u001B[0m\u001B[0ma_reduced\u001B[0m\u001B[1;33m,\u001B[0m\u001B[1;36m5\u001B[0m\u001B[1;33m,\u001B[0m\u001B[1;36m10\u001B[0m\u001B[1;33m)\u001B[0m\u001B[1;33m\u001B[0m\u001B[1;33m\u001B[0m\u001B[0m\n\u001B[0m",
      "\u001B[1;32m~\\OneDrive - mail.tau.ac.il\\Documents\\SA_UI\\SLM_tools.py\u001B[0m in \u001B[0;36mmodel_training_with_cv\u001B[1;34m(a_reduced, n_components, cv_num)\u001B[0m\n\u001B[0;32m    287\u001B[0m         \u001B[0mmapx\u001B[0m \u001B[1;33m=\u001B[0m \u001B[0ma_reduced\u001B[0m\u001B[1;33m[\u001B[0m\u001B[0midn\u001B[0m\u001B[1;33m,\u001B[0m \u001B[1;33m:\u001B[0m\u001B[1;33m]\u001B[0m\u001B[1;33m\u001B[0m\u001B[1;33m\u001B[0m\u001B[0m\n\u001B[0;32m    288\u001B[0m         \u001B[0mmapx\u001B[0m \u001B[1;33m=\u001B[0m \u001B[0mnp\u001B[0m\u001B[1;33m.\u001B[0m\u001B[0mhstack\u001B[0m\u001B[1;33m(\u001B[0m\u001B[1;33m(\u001B[0m\u001B[0mmapx\u001B[0m\u001B[1;33m[\u001B[0m\u001B[1;33m:\u001B[0m\u001B[1;33m,\u001B[0m \u001B[1;36m0\u001B[0m\u001B[1;33m:\u001B[0m\u001B[1;36m2\u001B[0m\u001B[1;33m]\u001B[0m\u001B[1;33m,\u001B[0m \u001B[0mnp\u001B[0m\u001B[1;33m.\u001B[0m\u001B[0mlog\u001B[0m\u001B[1;33m(\u001B[0m\u001B[0mmapx\u001B[0m\u001B[1;33m[\u001B[0m\u001B[1;33m:\u001B[0m\u001B[1;33m,\u001B[0m \u001B[1;36m3\u001B[0m\u001B[1;33m]\u001B[0m\u001B[1;33m)\u001B[0m\u001B[1;33m)\u001B[0m\u001B[1;33m)\u001B[0m\u001B[1;33m\u001B[0m\u001B[1;33m\u001B[0m\u001B[0m\n\u001B[1;32m--> 289\u001B[1;33m         \u001B[0mmedian_fit_vec\u001B[0m \u001B[1;33m=\u001B[0m \u001B[0mnp\u001B[0m\u001B[1;33m.\u001B[0m\u001B[0mmedian\u001B[0m\u001B[1;33m(\u001B[0m\u001B[0mmapx\u001B[0m\u001B[1;33m[\u001B[0m\u001B[1;33m:\u001B[0m\u001B[1;33m,\u001B[0m \u001B[1;36m3\u001B[0m\u001B[1;33m]\u001B[0m\u001B[1;33m,\u001B[0m \u001B[0maxis\u001B[0m\u001B[1;33m=\u001B[0m\u001B[1;36m0\u001B[0m\u001B[1;33m)\u001B[0m  \u001B[1;31m# line 54 matlab\u001B[0m\u001B[1;33m\u001B[0m\u001B[1;33m\u001B[0m\u001B[0m\n\u001B[0m\u001B[0;32m    290\u001B[0m         \u001B[0mmin\u001B[0m \u001B[1;33m=\u001B[0m \u001B[0mnp\u001B[0m\u001B[1;33m.\u001B[0m\u001B[0mmin\u001B[0m\u001B[1;33m(\u001B[0m\u001B[0mmapx\u001B[0m\u001B[1;33m[\u001B[0m\u001B[1;33m:\u001B[0m\u001B[1;33m,\u001B[0m \u001B[1;36m3\u001B[0m\u001B[1;33m]\u001B[0m\u001B[1;33m,\u001B[0m \u001B[0maxis\u001B[0m\u001B[1;33m=\u001B[0m\u001B[1;36m0\u001B[0m\u001B[1;33m)\u001B[0m\u001B[1;33m\u001B[0m\u001B[1;33m\u001B[0m\u001B[0m\n\u001B[0;32m    291\u001B[0m         \u001B[0mmax\u001B[0m \u001B[1;33m=\u001B[0m \u001B[0mnp\u001B[0m\u001B[1;33m.\u001B[0m\u001B[0mmax\u001B[0m\u001B[1;33m(\u001B[0m\u001B[0mmapx\u001B[0m\u001B[1;33m[\u001B[0m\u001B[1;33m:\u001B[0m\u001B[1;33m,\u001B[0m \u001B[1;36m3\u001B[0m\u001B[1;33m]\u001B[0m\u001B[1;33m,\u001B[0m \u001B[0maxis\u001B[0m\u001B[1;33m=\u001B[0m\u001B[1;36m0\u001B[0m\u001B[1;33m)\u001B[0m\u001B[1;33m\u001B[0m\u001B[1;33m\u001B[0m\u001B[0m\n",
      "\u001B[1;31mIndexError\u001B[0m: index 6 is out of bounds for axis 1 with size 6"
     ]
    }
   ],
   "execution_count": 21
  },
  {
   "metadata": {},
   "cell_type": "code",
   "outputs": [],
   "execution_count": null,
   "source": "",
   "id": "b5c5a845a11d2f7c"
  }
 ],
 "metadata": {
  "kernelspec": {
   "display_name": "Python 3",
   "language": "python",
   "name": "python3"
  },
  "language_info": {
   "codemirror_mode": {
    "name": "ipython",
    "version": 2
   },
   "file_extension": ".py",
   "mimetype": "text/x-python",
   "name": "python",
   "nbconvert_exporter": "python",
   "pygments_lexer": "ipython2",
   "version": "2.7.6"
  }
 },
 "nbformat": 4,
 "nbformat_minor": 5
}
