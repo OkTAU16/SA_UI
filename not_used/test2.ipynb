{
 "cells": [
  {
   "metadata": {},
   "cell_type": "code",
   "source": [
    "import os\n",
    "import numpy as np\n",
    "from scipy import interpolate\n",
    "import scipy.io \n",
    "import Rbeast as rb\n",
    "from SLM_tools import *\n",
    "import pickle\n",
    "import re"
   ],
   "id": "db1fcc1f0360fa9",
   "outputs": [],
   "execution_count": null
  },
  {
   "metadata": {},
   "cell_type": "code",
   "source": "%reset -f",
   "id": "c2bc0d09c68c8d8c",
   "outputs": [],
   "execution_count": null
  },
  {
   "metadata": {
    "ExecuteTime": {
     "end_time": "2024-07-25T13:58:15.902976Z",
     "start_time": "2024-07-25T13:58:15.898589Z"
    }
   },
   "cell_type": "code",
   "source": [
    "path1 = r\"C:\\Users\\User\\OneDrive - mail.tau.ac.il\\Documents\\SA_UI\\testing data\\energy_distance_mu_0.2_run_num_1.csv\"\n",
    "path2 = r\"C:\\Users\\User\\OneDrive - mail.tau.ac.il\\Documents\\SA_UI\\testing data\\energy_distance_mu_0.2_run_num_2.csv\""
   ],
   "id": "3628c7ef0d58bdad",
   "outputs": [],
   "execution_count": 5
  },
  {
   "metadata": {
    "ExecuteTime": {
     "end_time": "2024-07-25T14:01:00.800296Z",
     "start_time": "2024-07-25T13:58:16.462563Z"
    }
   },
   "cell_type": "code",
   "source": [
    "data = SLM_tools.load_data(path2,2,'csv',False)\n",
    "energy = data[0]\n",
    "distance = data[1]\n",
    "# energy, distance, time_vec = SLM_tools.downsample(energy,distance,500)\n",
    "# o, cp, mean_trend = SLM_tools.beast(energy)"
   ],
   "id": "58b922b572a6d497",
   "outputs": [],
   "execution_count": 6
  },
  {
   "metadata": {
    "ExecuteTime": {
     "end_time": "2024-07-25T14:01:00.953723Z",
     "start_time": "2024-07-25T14:01:00.808398Z"
    }
   },
   "cell_type": "code",
   "source": "a = np.where(distance[:, 0] == 0)",
   "id": "22d4713fcd920fb5",
   "outputs": [],
   "execution_count": 7
  },
  {
   "metadata": {},
   "cell_type": "code",
   "outputs": [],
   "execution_count": null,
   "source": [
    "data = SLM_tools.load_data(path1,2,'csv',False)\n",
    "energy2 = data[0]\n",
    "distance2 = data[1]"
   ],
   "id": "4121b5126d9197cf"
  },
  {
   "metadata": {},
   "cell_type": "code",
   "outputs": [],
   "execution_count": null,
   "source": "b = np.where(distance[:, 0] == 0)",
   "id": "4328c3a9e9879651"
  },
  {
   "metadata": {},
   "cell_type": "code",
   "source": "len(a[0])",
   "id": "35aa7bce2c309a56",
   "outputs": [],
   "execution_count": null
  },
  {
   "metadata": {},
   "cell_type": "code",
   "source": "o, cp, mean_trend = SLM_tools.beast(energy)",
   "id": "2846a42c06be21aa",
   "outputs": [],
   "execution_count": null
  },
  {
   "metadata": {},
   "cell_type": "code",
   "source": "len(cp)",
   "id": "8a2aea69c087f06a",
   "outputs": [],
   "execution_count": null
  },
  {
   "metadata": {},
   "cell_type": "code",
   "source": "A = SLM_tools.segment_data(energy, distance,mean_trend,cp)",
   "id": "65abc06c02fb43b7",
   "outputs": [],
   "execution_count": null
  },
  {
   "metadata": {},
   "cell_type": "code",
   "source": "A",
   "id": "521462979ace6aff",
   "outputs": [],
   "execution_count": null
  },
  {
   "metadata": {},
   "cell_type": "code",
   "source": [
    "data2 = SLM_tools.load_data(path2,2,'csv',False)\n",
    "energy2 = data2[0]\n",
    "distance2 = data2[1]\n",
    "energy2, distance2, time_vec = SLM_tools.downsample(energy2,distance2,500)\n",
    "# o2, cp2, mean_trend2 = SLM_tools.beast(energy2)"
   ],
   "id": "4e0b042ec1e5f87b",
   "outputs": [],
   "execution_count": null
  },
  {
   "metadata": {},
   "cell_type": "code",
   "source": "o2, cp2, mean_trend2 = SLM_tools.beast(energy2)",
   "id": "6dc9dfb0364c7056",
   "outputs": [],
   "execution_count": null
  },
  {
   "metadata": {},
   "cell_type": "code",
   "source": "B = SLM_tools.segment_data(energy2, distance2,mean_trend2,cp2)",
   "id": "f55a09fa37e49576",
   "outputs": [],
   "execution_count": null
  },
  {
   "metadata": {},
   "cell_type": "code",
   "source": "B",
   "id": "aab2e67f9a86de57",
   "outputs": [],
   "execution_count": null
  },
  {
   "metadata": {},
   "cell_type": "code",
   "source": [
    "# feature aggregation\n",
    "C = []\n",
    "C.append(A)\n",
    "C.append(B)"
   ],
   "id": "52ef79aa73d6b545",
   "outputs": [],
   "execution_count": null
  },
  {
   "metadata": {},
   "cell_type": "code",
   "source": [
    "with open('extracted_features_mu_0.2_new.pkl', 'wb') as file:\n",
    "    pickle.dump(C, file)"
   ],
   "id": "9645daf185f5ad56",
   "outputs": [],
   "execution_count": null
  },
  {
   "metadata": {},
   "cell_type": "code",
   "source": [
    "with open('extracted_features_mu_0.2.pkl', 'rb') as file:\n",
    "    loaded_C = pickle.load(file)"
   ],
   "id": "d0f9e7ca4cc4b6ea",
   "outputs": [],
   "execution_count": null
  },
  {
   "metadata": {},
   "cell_type": "code",
   "source": "from SLM_tools import *",
   "id": "ee353470fa75986c",
   "outputs": [],
   "execution_count": null
  },
  {
   "metadata": {},
   "cell_type": "code",
   "source": "c_reduced = SLM_tools.post_beast_processing(loaded_C)",
   "id": "f02ed528a25a7c7b",
   "outputs": [],
   "execution_count": null
  },
  {
   "metadata": {},
   "cell_type": "code",
   "source": [
    "with open('c_reduced_mu_0.2.pkl', 'wb') as file:\n",
    "    pickle.dump(c_reduced, file)"
   ],
   "id": "e315b85a2702a84c",
   "outputs": [],
   "execution_count": null
  },
  {
   "metadata": {},
   "cell_type": "code",
   "source": "principal_components, score, latent = SLM_tools.pca(c_reduced,3)",
   "id": "117f636635e01dd3",
   "outputs": [],
   "execution_count": null
  },
  {
   "metadata": {},
   "cell_type": "code",
   "source": [
    "with open('pca_score_mu_0.2.pkl', 'wb') as file:\n",
    "    pickle.dump(c_reduced, file)"
   ],
   "id": "1c03bc2fd506f12e",
   "outputs": [],
   "execution_count": null
  },
  {
   "metadata": {},
   "cell_type": "code",
   "source": [
    "with open('c_reduced_mu_0.2.pkl', 'rb') as file:\n",
    "   c_reduced = pickle.load(file)"
   ],
   "id": "cb9af884d60a507b",
   "outputs": [],
   "execution_count": null
  },
  {
   "metadata": {},
   "cell_type": "code",
   "source": [
    "with open('pca_score_mu_0.2.pkl', 'rb') as file:\n",
    "   score = pickle.load(file)"
   ],
   "id": "7b4a07cbe491e1ea",
   "outputs": [],
   "execution_count": null
  },
  {
   "metadata": {},
   "cell_type": "code",
   "source": "c_reduced",
   "id": "309bdff7cac47b60",
   "outputs": [],
   "execution_count": null
  },
  {
   "metadata": {},
   "cell_type": "code",
   "source": "score",
   "id": "fe17b4aa4a200202",
   "outputs": [],
   "execution_count": null
  },
  {
   "metadata": {},
   "cell_type": "code",
   "source": "a_reduced = SLM_tools.post_pca_processing(score, c_reduced,3)",
   "id": "879967026f525218",
   "outputs": [],
   "execution_count": null
  },
  {
   "metadata": {},
   "cell_type": "code",
   "source": "a_reduced",
   "id": "caf7d2b9fb50d5a8",
   "outputs": [],
   "execution_count": null
  },
  {
   "metadata": {},
   "cell_type": "code",
   "source": [
    "with open('a_reduced2_mu_0.2.pkl', 'wb') as file:\n",
    "    pickle.dump(a_reduced, file)"
   ],
   "id": "5d86752c1aadb95c",
   "outputs": [],
   "execution_count": null
  },
  {
   "metadata": {
    "ExecuteTime": {
     "end_time": "2024-07-25T13:55:29.365097Z",
     "start_time": "2024-07-25T13:55:24.445476Z"
    }
   },
   "cell_type": "code",
   "source": [
    "import os\n",
    "import numpy as np\n",
    "from scipy import interpolate\n",
    "import scipy.io \n",
    "import Rbeast as rb\n",
    "from SLM_tools import *\n",
    "import pickle\n",
    "import re"
   ],
   "id": "55e47b0a3f98a2c",
   "outputs": [],
   "execution_count": 1
  },
  {
   "metadata": {
    "ExecuteTime": {
     "end_time": "2024-07-25T13:55:29.373539Z",
     "start_time": "2024-07-25T13:55:29.367682Z"
    }
   },
   "cell_type": "code",
   "source": [
    "with open(r'C:\\Users\\User\\OneDrive - mail.tau.ac.il\\Documents\\SA_UI\\not_used\\a_reduced2_mu_0.2.pkl', 'rb') as file:\n",
    "    a_reduced = pickle.load(file)"
   ],
   "id": "3580e9b80a2fa2eb",
   "outputs": [],
   "execution_count": 2
  },
  {
   "metadata": {
    "ExecuteTime": {
     "end_time": "2024-07-25T13:55:29.387425Z",
     "start_time": "2024-07-25T13:55:29.374504Z"
    }
   },
   "cell_type": "code",
   "source": "a_reduced",
   "id": "210572a7a4609bfb",
   "outputs": [
    {
     "data": {
      "text/plain": [
       "array([[ 3.78112042e+00, -2.26331836e-01,  8.19884287e-02,\n",
       "                    nan],\n",
       "       [ 3.55072650e-01, -3.01577015e-01,  1.46546116e-01,\n",
       "                    nan],\n",
       "       [-1.00365054e+00, -6.64700148e-01,  5.51221924e-01,\n",
       "                    nan],\n",
       "       [-1.30553940e+00,  3.88730933e-01,  1.83198685e-01,\n",
       "                    nan],\n",
       "       [-3.03775606e-01,  7.51061302e-01, -4.37176983e-01,\n",
       "                    nan],\n",
       "       [-9.05213419e-01, -1.24057753e-01, -1.51787597e-02,\n",
       "         3.40510000e+04],\n",
       "       [ 3.70392942e-01,  1.80965090e+00,  7.16357094e-02,\n",
       "         2.41540000e+04],\n",
       "       [-8.21299148e-01,  3.67321458e-02, -2.44563754e-01,\n",
       "         1.32700000e+04],\n",
       "       [-1.67107910e-01, -1.66950853e+00, -3.37671366e-01,\n",
       "         6.50100000e+03]])"
      ]
     },
     "execution_count": 3,
     "metadata": {},
     "output_type": "execute_result"
    }
   ],
   "execution_count": 3
  },
  {
   "metadata": {
    "ExecuteTime": {
     "end_time": "2024-07-25T13:55:29.396231Z",
     "start_time": "2024-07-25T13:55:29.389161Z"
    }
   },
   "cell_type": "code",
   "source": "a_reduced.shape",
   "id": "4915d77d06018129",
   "outputs": [
    {
     "data": {
      "text/plain": [
       "(9, 4)"
      ]
     },
     "execution_count": 4,
     "metadata": {},
     "output_type": "execute_result"
    }
   ],
   "execution_count": 4
  },
  {
   "metadata": {},
   "cell_type": "code",
   "source": [
    "from scipy.io import savemat\n",
    "savemat(\"a_reduced2.mat\", {'a_reduced': a_reduced})"
   ],
   "id": "c9c8319afd5a11a0",
   "outputs": [],
   "execution_count": null
  },
  {
   "metadata": {},
   "cell_type": "code",
   "source": "YI, tfas_predict_mat, tfas_actually_mat, mean_error_mat, train_index, random_x, validation_index, median_fit_vec = SLM_tools.model_training_with_cv(a_reduced,5)",
   "id": "b58e251ed1b933b5",
   "outputs": [],
   "execution_count": null
  },
  {
   "metadata": {},
   "cell_type": "code",
   "outputs": [],
   "execution_count": null,
   "source": "",
   "id": "6d9ba29775d2cdd7"
  },
  {
   "metadata": {
    "ExecuteTime": {
     "end_time": "2024-07-26T14:32:36.540713Z",
     "start_time": "2024-07-26T14:32:36.514773Z"
    }
   },
   "cell_type": "code",
   "source": "",
   "id": "8c4bdc8501f56e65",
   "outputs": [
    {
     "ename": "NameError",
     "evalue": "name 'a_reduced' is not defined",
     "output_type": "error",
     "traceback": [
      "\u001B[1;31m---------------------------------------------------------------------------\u001B[0m",
      "\u001B[1;31mNameError\u001B[0m                                 Traceback (most recent call last)",
      "\u001B[1;32m~\\AppData\\Local\\Temp\\ipykernel_21152\\178545440.py\u001B[0m in \u001B[0;36m<module>\u001B[1;34m\u001B[0m\n\u001B[0;32m      1\u001B[0m \u001B[0mn_components\u001B[0m \u001B[1;33m=\u001B[0m \u001B[1;36m3\u001B[0m\u001B[1;33m\u001B[0m\u001B[1;33m\u001B[0m\u001B[0m\n\u001B[1;32m----> 2\u001B[1;33m \u001B[0ma_reduced\u001B[0m\u001B[1;33m[\u001B[0m\u001B[1;36m0\u001B[0m\u001B[1;33m:\u001B[0m\u001B[1;36m3\u001B[0m\u001B[1;33m,\u001B[0m \u001B[1;36m0\u001B[0m\u001B[1;33m:\u001B[0m\u001B[0mn_components\u001B[0m\u001B[1;33m]\u001B[0m\u001B[1;33m\u001B[0m\u001B[1;33m\u001B[0m\u001B[0m\n\u001B[0m",
      "\u001B[1;31mNameError\u001B[0m: name 'a_reduced' is not defined"
     ]
    }
   ],
   "execution_count": 2
  },
  {
   "metadata": {},
   "cell_type": "code",
   "outputs": [],
   "execution_count": null,
   "source": "",
   "id": "124138676fef60f5"
  }
 ],
 "metadata": {
  "kernelspec": {
   "display_name": "Python 3",
   "language": "python",
   "name": "python3"
  },
  "language_info": {
   "codemirror_mode": {
    "name": "ipython",
    "version": 2
   },
   "file_extension": ".py",
   "mimetype": "text/x-python",
   "name": "python",
   "nbconvert_exporter": "python",
   "pygments_lexer": "ipython2",
   "version": "2.7.6"
  }
 },
 "nbformat": 4,
 "nbformat_minor": 5
}
