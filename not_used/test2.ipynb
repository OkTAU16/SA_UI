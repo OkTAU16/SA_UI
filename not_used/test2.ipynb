{
 "cells": [
  {
   "metadata": {},
   "cell_type": "code",
   "source": [
    "import os\n",
    "import numpy as np\n",
    "from scipy import interpolate\n",
    "import scipy.io \n",
    "import Rbeast as rb\n",
    "from SLM_tools import *\n",
    "import pickle\n",
    "import re"
   ],
   "id": "db1fcc1f0360fa9",
   "outputs": [],
   "execution_count": null
  },
  {
   "metadata": {},
   "cell_type": "code",
   "source": "%reset -f",
   "id": "c2bc0d09c68c8d8c",
   "outputs": [],
   "execution_count": null
  },
  {
   "metadata": {},
   "cell_type": "code",
   "source": [
    "path1 = r\"C:\\Users\\User\\OneDrive - mail.tau.ac.il\\Documents\\SA_UI\\testing data\\energy_distance_mu_0.2_run_num_1.csv\"\n",
    "path2 = r\"C:\\Users\\User\\OneDrive - mail.tau.ac.il\\Documents\\SA_UI\\testing data\\energy_distance_mu_0.2_run_num_2.csv\""
   ],
   "id": "3628c7ef0d58bdad",
   "outputs": [],
   "execution_count": null
  },
  {
   "metadata": {},
   "cell_type": "code",
   "source": [
    "data = SLM_tools.load_data(path2,2,'csv',False)\n",
    "energy = data[0]\n",
    "distance = data[1]\n",
    "# energy, distance, time_vec = SLM_tools.downsample(energy,distance,500)\n",
    "# o, cp, mean_trend = SLM_tools.beast(energy)"
   ],
   "id": "58b922b572a6d497",
   "outputs": [],
   "execution_count": null
  },
  {
   "metadata": {},
   "cell_type": "code",
   "source": "a = np.where(distance[:, 0] == 0)",
   "id": "22d4713fcd920fb5",
   "outputs": [],
   "execution_count": null
  },
  {
   "metadata": {},
   "cell_type": "code",
   "source": "len(a[0])",
   "id": "35aa7bce2c309a56",
   "outputs": [],
   "execution_count": null
  },
  {
   "metadata": {},
   "cell_type": "code",
   "source": "o, cp, mean_trend = SLM_tools.beast(energy)",
   "id": "2846a42c06be21aa",
   "outputs": [],
   "execution_count": null
  },
  {
   "metadata": {},
   "cell_type": "code",
   "source": "len(cp)",
   "id": "8a2aea69c087f06a",
   "outputs": [],
   "execution_count": null
  },
  {
   "metadata": {},
   "cell_type": "code",
   "source": "A = SLM_tools.segment_data(energy, distance,mean_trend,cp)",
   "id": "65abc06c02fb43b7",
   "outputs": [],
   "execution_count": null
  },
  {
   "metadata": {},
   "cell_type": "code",
   "source": "A",
   "id": "521462979ace6aff",
   "outputs": [],
   "execution_count": null
  },
  {
   "metadata": {},
   "cell_type": "code",
   "source": [
    "data2 = SLM_tools.load_data(path2,2,'csv',False)\n",
    "energy2 = data2[0]\n",
    "distance2 = data2[1]\n",
    "energy2, distance2, time_vec = SLM_tools.downsample(energy2,distance2,500)\n",
    "# o2, cp2, mean_trend2 = SLM_tools.beast(energy2)"
   ],
   "id": "4e0b042ec1e5f87b",
   "outputs": [],
   "execution_count": null
  },
  {
   "metadata": {},
   "cell_type": "code",
   "source": "o2, cp2, mean_trend2 = SLM_tools.beast(energy2)",
   "id": "6dc9dfb0364c7056",
   "outputs": [],
   "execution_count": null
  },
  {
   "metadata": {},
   "cell_type": "code",
   "source": "B = SLM_tools.segment_data(energy2, distance2,mean_trend2,cp2)",
   "id": "f55a09fa37e49576",
   "outputs": [],
   "execution_count": null
  },
  {
   "metadata": {},
   "cell_type": "code",
   "source": "B",
   "id": "aab2e67f9a86de57",
   "outputs": [],
   "execution_count": null
  },
  {
   "metadata": {},
   "cell_type": "code",
   "source": [
    "# feature aggregation\n",
    "C = []\n",
    "C.append(A)\n",
    "C.append(B)"
   ],
   "id": "52ef79aa73d6b545",
   "outputs": [],
   "execution_count": null
  },
  {
   "metadata": {},
   "cell_type": "code",
   "source": [
    "with open('extracted_features_mu_0.2_new.pkl', 'wb') as file:\n",
    "    pickle.dump(C, file)"
   ],
   "id": "9645daf185f5ad56",
   "outputs": [],
   "execution_count": null
  },
  {
   "metadata": {},
   "cell_type": "code",
   "source": [
    "with open('extracted_features_mu_0.2.pkl', 'rb') as file:\n",
    "    loaded_C = pickle.load(file)"
   ],
   "id": "d0f9e7ca4cc4b6ea",
   "outputs": [],
   "execution_count": null
  },
  {
   "metadata": {},
   "cell_type": "code",
   "source": "from SLM_tools import *",
   "id": "ee353470fa75986c",
   "outputs": [],
   "execution_count": null
  },
  {
   "metadata": {},
   "cell_type": "code",
   "source": "c_reduced = SLM_tools.post_beast_processing(loaded_C)",
   "id": "f02ed528a25a7c7b",
   "outputs": [],
   "execution_count": null
  },
  {
   "metadata": {},
   "cell_type": "code",
   "source": [
    "with open('c_reduced_mu_0.2.pkl', 'wb') as file:\n",
    "    pickle.dump(c_reduced, file)"
   ],
   "id": "e315b85a2702a84c",
   "outputs": [],
   "execution_count": null
  },
  {
   "metadata": {},
   "cell_type": "code",
   "source": "principal_components, score, latent = SLM_tools.pca(c_reduced,3)",
   "id": "117f636635e01dd3",
   "outputs": [],
   "execution_count": null
  },
  {
   "metadata": {},
   "cell_type": "code",
   "source": [
    "with open('pca_score_mu_0.2.pkl', 'wb') as file:\n",
    "    pickle.dump(c_reduced, file)"
   ],
   "id": "1c03bc2fd506f12e",
   "outputs": [],
   "execution_count": null
  },
  {
   "metadata": {},
   "cell_type": "code",
   "source": [
    "with open('c_reduced_mu_0.2.pkl', 'rb') as file:\n",
    "   c_reduced = pickle.load(file)"
   ],
   "id": "cb9af884d60a507b",
   "outputs": [],
   "execution_count": null
  },
  {
   "metadata": {},
   "cell_type": "code",
   "source": [
    "with open('pca_score_mu_0.2.pkl', 'rb') as file:\n",
    "   score = pickle.load(file)"
   ],
   "id": "7b4a07cbe491e1ea",
   "outputs": [],
   "execution_count": null
  },
  {
   "metadata": {},
   "cell_type": "code",
   "source": "c_reduced",
   "id": "309bdff7cac47b60",
   "outputs": [],
   "execution_count": null
  },
  {
   "metadata": {},
   "cell_type": "code",
   "source": "score",
   "id": "fe17b4aa4a200202",
   "outputs": [],
   "execution_count": null
  },
  {
   "metadata": {},
   "cell_type": "code",
   "source": "a_reduced = SLM_tools.post_pca_processing(score, c_reduced,3)",
   "id": "879967026f525218",
   "outputs": [],
   "execution_count": null
  },
  {
   "metadata": {},
   "cell_type": "code",
   "source": "a_reduced",
   "id": "caf7d2b9fb50d5a8",
   "outputs": [],
   "execution_count": null
  },
  {
   "metadata": {},
   "cell_type": "code",
   "source": [
    "with open('a_reduced2_mu_0.2.pkl', 'wb') as file:\n",
    "    pickle.dump(a_reduced, file)"
   ],
   "id": "5d86752c1aadb95c",
   "outputs": [],
   "execution_count": null
  },
  {
   "metadata": {},
   "cell_type": "code",
   "source": [
    "import os\n",
    "import numpy as np\n",
    "from scipy import interpolate\n",
    "import scipy.io \n",
    "import Rbeast as rb\n",
    "from SLM_tools import *\n",
    "import pickle\n",
    "import re"
   ],
   "id": "55e47b0a3f98a2c",
   "outputs": [],
   "execution_count": null
  },
  {
   "metadata": {},
   "cell_type": "code",
   "source": [
    "with open(r'C:\\Users\\User\\OneDrive - mail.tau.ac.il\\Documents\\SA_UI\\not_used\\a_reduced2_mu_0.2.pkl', 'rb') as file:\n",
    "    a_reduced = pickle.load(file)"
   ],
   "id": "3580e9b80a2fa2eb",
   "outputs": [],
   "execution_count": null
  },
  {
   "metadata": {},
   "cell_type": "code",
   "source": "a_reduced",
   "id": "210572a7a4609bfb",
   "outputs": [],
   "execution_count": null
  },
  {
   "metadata": {},
   "cell_type": "code",
   "source": "a_reduced.shape",
   "id": "4915d77d06018129",
   "outputs": [],
   "execution_count": null
  },
  {
   "metadata": {},
   "cell_type": "code",
   "source": [
    "from scipy.io import savemat\n",
    "savemat(\"a_reduced2.mat\", {'a_reduced': a_reduced})"
   ],
   "id": "c9c8319afd5a11a0",
   "outputs": [],
   "execution_count": null
  },
  {
   "metadata": {},
   "cell_type": "code",
   "source": "YI, tfas_predict_mat, tfas_actually_mat, mean_error_mat, train_index, random_x, validation_index, median_fit_vec = SLM_tools.model_training_with_cv(a_reduced,5)",
   "id": "b58e251ed1b933b5",
   "outputs": [],
   "execution_count": null
  },
  {
   "metadata": {},
   "cell_type": "code",
   "source": "",
   "id": "8c4bdc8501f56e65",
   "outputs": [],
   "execution_count": null
  }
 ],
 "metadata": {
  "kernelspec": {
   "display_name": "Python 3",
   "language": "python",
   "name": "python3"
  },
  "language_info": {
   "codemirror_mode": {
    "name": "ipython",
    "version": 2
   },
   "file_extension": ".py",
   "mimetype": "text/x-python",
   "name": "python",
   "nbconvert_exporter": "python",
   "pygments_lexer": "ipython2",
   "version": "2.7.6"
  }
 },
 "nbformat": 4,
 "nbformat_minor": 5
}
